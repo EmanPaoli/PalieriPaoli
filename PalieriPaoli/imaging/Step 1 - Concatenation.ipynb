{
 "cells": [
  {
   "cell_type": "code",
   "execution_count": 1,
   "metadata": {},
   "outputs": [],
   "source": [
    "%gui qt"
   ]
  },
  {
   "cell_type": "code",
   "execution_count": 2,
   "metadata": {},
   "outputs": [],
   "source": [
    "import tifffile\n",
    "import napari\n",
    "from pathlib import Path\n",
    "import numpy as np\n",
    "from tqdm import tqdm\n",
    "from split_dataset import SplitDataset\n",
    "from scipy.ndimage import zoom, gaussian_filter\n",
    "from scipy.ndimage import map_coordinates\n",
    "import flammkuchen as fl\n",
    "from dipy.align.imaffine import transform_centers_of_mass, AffineMap\n",
    "from dipy.align.metrics import CCMetric, EMMetric\n",
    "from dipy.align.imwarp import SymmetricDiffeomorphicRegistration, DiffeomorphicRegistration, DiffeomorphicMap\n",
    "from dipy.align.imaffine import (transform_centers_of_mass,\n",
    "                                 AffineMap,\n",
    "                                 MutualInformationMetric,\n",
    "                                 AffineRegistration)\n",
    "from dipy.align.transforms import (TranslationTransform3D,\n",
    "                                   RigidTransform3D,\n",
    "                                   AffineTransform3D)\n",
    "from fimpy.pipeline.source_extraction import extract_traces"
   ]
  },
  {
   "cell_type": "code",
   "execution_count": 3,
   "metadata": {},
   "outputs": [],
   "source": [
    "def map_affine(stack,  transform_mat, dest_shape, order=3):\n",
    "    target_coords = np.reshape(transform_mat @ np.reshape(\n",
    "        np.pad(np.indices(dest_shape), ((0,1), (0,0), (0,0), (0,0)),\n",
    "        mode=\"constant\", constant_values=1), (4, -1)), \n",
    "                                (3, *dest_shape))\n",
    "\n",
    "    return map_coordinates(stack, target_coords, order=order)"
   ]
  },
  {
   "cell_type": "code",
   "execution_count": 4,
   "metadata": {},
   "outputs": [],
   "source": [
    "list_exp = [Path(r\"\\\\FUNES\\Shared\\Ruben\\from MPIN\\J-E0041_temperature\\ls_1120\\7112020_f1_ok\\7112020_f1_ok\"),\n",
    "            Path(r\"\\\\FUNES\\Shared\\Ruben\\from MPIN\\J-E0041_temperature\\ls_1120\\7112020_f0_piunochesi_ok\\7112020_f0_piunochesi\"),\n",
    "            Path(r\"\\\\FUNES\\Shared\\Ruben\\from MPIN\\J-E0041_temperature\\ls_1120\\6112020_f2_ok\\6112020_f2_ok\")]"
   ]
  },
  {
   "cell_type": "code",
   "execution_count": 106,
   "metadata": {},
   "outputs": [],
   "source": [
    "list_exp = list(master_path.glob(\"*\"))"
   ]
  },
  {
   "cell_type": "code",
   "execution_count": 5,
   "metadata": {},
   "outputs": [
    {
     "ename": "ValueError",
     "evalue": "cannot reshape array of size 6600 into shape (24,3,2)",
     "output_type": "error",
     "traceback": [
      "\u001b[1;31m---------------------------------------------------------------------------\u001b[0m",
      "\u001b[1;31mValueError\u001b[0m                                Traceback (most recent call last)",
      "\u001b[1;32m<ipython-input-5-06b22cfbdf10>\u001b[0m in \u001b[0;36m<module>\u001b[1;34m\u001b[0m\n\u001b[0;32m      1\u001b[0m \u001b[0manatomies\u001b[0m \u001b[1;33m=\u001b[0m \u001b[1;33m[\u001b[0m\u001b[1;33m]\u001b[0m\u001b[1;33m\u001b[0m\u001b[1;33m\u001b[0m\u001b[0m\n\u001b[0;32m      2\u001b[0m \u001b[1;32mfor\u001b[0m \u001b[0mexp\u001b[0m \u001b[1;32min\u001b[0m \u001b[0mlist_exp\u001b[0m\u001b[1;33m:\u001b[0m\u001b[1;33m\u001b[0m\u001b[1;33m\u001b[0m\u001b[0m\n\u001b[1;32m----> 3\u001b[1;33m     \u001b[0manatomies\u001b[0m\u001b[1;33m.\u001b[0m\u001b[0mappend\u001b[0m\u001b[1;33m(\u001b[0m\u001b[0mSplitDataset\u001b[0m\u001b[1;33m(\u001b[0m\u001b[0mexp\u001b[0m \u001b[1;33m/\u001b[0m \u001b[1;34m\"anatomy\"\u001b[0m\u001b[1;33m)\u001b[0m\u001b[1;33m[\u001b[0m\u001b[1;33m:\u001b[0m\u001b[1;33m,\u001b[0m\u001b[1;33m:\u001b[0m\u001b[1;33m,\u001b[0m\u001b[1;33m:\u001b[0m\u001b[1;33m]\u001b[0m\u001b[1;33m)\u001b[0m\u001b[1;33m\u001b[0m\u001b[1;33m\u001b[0m\u001b[0m\n\u001b[0m",
      "\u001b[1;32m~\\anaconda3\\lib\\site-packages\\split_dataset\\split_dataset.py\u001b[0m in \u001b[0;36m__init__\u001b[1;34m(self, root, prefix)\u001b[0m\n\u001b[0;32m    106\u001b[0m             \u001b[0mfiles\u001b[0m \u001b[1;33m=\u001b[0m \u001b[0msorted\u001b[0m\u001b[1;33m(\u001b[0m\u001b[0mself\u001b[0m\u001b[1;33m.\u001b[0m\u001b[0mroot\u001b[0m\u001b[1;33m.\u001b[0m\u001b[0mglob\u001b[0m\u001b[1;33m(\u001b[0m\u001b[1;34m\"*{}_[0-9]*.h5\"\u001b[0m\u001b[1;33m.\u001b[0m\u001b[0mformat\u001b[0m\u001b[1;33m(\u001b[0m\u001b[0mprefix\u001b[0m\u001b[1;33m)\u001b[0m\u001b[1;33m)\u001b[0m\u001b[1;33m)\u001b[0m\u001b[1;33m\u001b[0m\u001b[1;33m\u001b[0m\u001b[0m\n\u001b[0;32m    107\u001b[0m \u001b[1;33m\u001b[0m\u001b[0m\n\u001b[1;32m--> 108\u001b[1;33m         \u001b[0mself\u001b[0m\u001b[1;33m.\u001b[0m\u001b[0mfiles\u001b[0m \u001b[1;33m=\u001b[0m \u001b[0mnp\u001b[0m\u001b[1;33m.\u001b[0m\u001b[0marray\u001b[0m\u001b[1;33m(\u001b[0m\u001b[0mfiles\u001b[0m\u001b[1;33m)\u001b[0m\u001b[1;33m.\u001b[0m\u001b[0mreshape\u001b[0m\u001b[1;33m(\u001b[0m\u001b[0mself\u001b[0m\u001b[1;33m.\u001b[0m\u001b[0mblock_starts\u001b[0m\u001b[1;33m.\u001b[0m\u001b[0mshape\u001b[0m\u001b[1;33m[\u001b[0m\u001b[1;33m:\u001b[0m\u001b[1;33m-\u001b[0m\u001b[1;36m1\u001b[0m\u001b[1;33m]\u001b[0m\u001b[1;33m)\u001b[0m\u001b[1;33m\u001b[0m\u001b[1;33m\u001b[0m\u001b[0m\n\u001b[0m\u001b[0;32m    109\u001b[0m \u001b[1;33m\u001b[0m\u001b[0m\n\u001b[0;32m    110\u001b[0m         \u001b[1;31m# If available, read resolution\u001b[0m\u001b[1;33m\u001b[0m\u001b[1;33m\u001b[0m\u001b[1;33m\u001b[0m\u001b[0m\n",
      "\u001b[1;31mValueError\u001b[0m: cannot reshape array of size 6600 into shape (24,3,2)"
     ]
    }
   ],
   "source": [
    "anatomies = []\n",
    "for exp in list_exp:\n",
    "    anatomies.append(SplitDataset(exp / \"anatomy\")[:,:,:])"
   ]
  },
  {
   "cell_type": "code",
   "execution_count": 109,
   "metadata": {},
   "outputs": [],
   "source": [
    "map_rois = []\n",
    "for exp in list_exp:\n",
    "    merg_rois = fl.load(exp / \"merged_rois.h5\")['stack_3D']\n",
    "    map_rois.append(merg_rois)"
   ]
  },
  {
   "cell_type": "code",
   "execution_count": 8,
   "metadata": {},
   "outputs": [
    {
     "data": {
      "text/plain": [
       "<Image layer 'Image [2]' at 0x24c07f6ef88>"
      ]
     },
     "execution_count": 8,
     "metadata": {},
     "output_type": "execute_result"
    }
   ],
   "source": [
    "v = napari.view_image(anatomies[0])\n",
    "v.add_image(anatomies[1])\n",
    "v.add_image(anatomies[2])"
   ]
  },
  {
   "cell_type": "code",
   "execution_count": 110,
   "metadata": {},
   "outputs": [],
   "source": [
    "reference = anatomies.pop(-1)"
   ]
  },
  {
   "cell_type": "code",
   "execution_count": 111,
   "metadata": {},
   "outputs": [],
   "source": [
    "reference_rois = map_rois.pop(-1)"
   ]
  },
  {
   "cell_type": "code",
   "execution_count": 12,
   "metadata": {},
   "outputs": [],
   "source": [
    "# %%time\n",
    "# morphed_anatomies = []\n",
    "# morphed_map_rois = []\n",
    "# transf_matrices = []\n",
    "# for anatomy in anatomies:\n",
    "    \n",
    "#     transform = TranslationTransform3D()\n",
    "\n",
    "#     translation = affreg.optimize(reference, anatomy, transform, None,\n",
    "#                                   ref2world, exp2world\n",
    "#                                   )\n",
    "\n",
    "#     transform = RigidTransform3D()\n",
    "\n",
    "#     rigid = affreg.optimize(reference, anatomy, transform, None,\n",
    "#                                   ref2world, exp2world,\n",
    "#                                   starting_affine=translation.affine)\n",
    "\n",
    "# #     transform = AffineTransform3D()\n",
    "\n",
    "# #     affined = affreg.optimize(reference, anatomy, transform, None,\n",
    "# #                                   ref2world, exp2world,\n",
    "# #                                   starting_affine=rigid.affine)\n",
    "\n",
    "#     morphed_anatomy = rigid.transform(anatomy)\n",
    "#     morphed_anatomies.append(morphed_anatomy)\n",
    "#     transf_matrices.append(rigid)"
   ]
  },
  {
   "cell_type": "code",
   "execution_count": 13,
   "metadata": {},
   "outputs": [
    {
     "data": {
      "text/plain": [
       "<Image layer 'Image [1]' at 0x1f340f30248>"
      ]
     },
     "execution_count": 13,
     "metadata": {},
     "output_type": "execute_result"
    },
    {
     "data": {
      "text/plain": [
       "<Image layer 'Image [1]' at 0x1f340f30248>"
      ]
     },
     "execution_count": 13,
     "metadata": {},
     "output_type": "execute_result"
    },
    {
     "data": {
      "text/plain": [
       "<Image layer 'Image [1]' at 0x1f340f30248>"
      ]
     },
     "execution_count": 13,
     "metadata": {},
     "output_type": "execute_result"
    }
   ],
   "source": [
    "# v = napari.view_image(reference, colormap=\"green\", blending=\"additive\")\n",
    "# v.add_image(morphed_anatomies[0], colormap=\"magenta\", blending=\"additive\")\n",
    "# v.add_image(morphed_anatomies[1], colormap=\"green\", blending=\"additive\")"
   ]
  },
  {
   "cell_type": "code",
   "execution_count": 157,
   "metadata": {},
   "outputs": [],
   "source": [
    "# morphed_roi = (rigid.transform_inverse((reference_rois == 1000).astype(int)) > 0.2).astype(int)"
   ]
  },
  {
   "cell_type": "code",
   "execution_count": 13,
   "metadata": {},
   "outputs": [],
   "source": [
    "# v = napari.view_image(reference)\n",
    "# v.add_labels(reference_rois == 1000, blending=\"additive\")\n",
    "# v.add_labels(morphed_roi, blending=\"additive\")\n",
    "# # v.add_labels(map_rois[1], blending=\"additive\")"
   ]
  },
  {
   "cell_type": "markdown",
   "metadata": {},
   "source": [
    "### Clean ROI Label stack"
   ]
  },
  {
   "cell_type": "code",
   "execution_count": 30,
   "metadata": {},
   "outputs": [],
   "source": [
    "exp = list_exp[2]\n",
    "reference_rois = fl.load(exp / \"merged_rois.h5\")['stack_3D']\n",
    "reference = SplitDataset(exp / \"correlation_map\")[:,:,:]"
   ]
  },
  {
   "cell_type": "code",
   "execution_count": 31,
   "metadata": {},
   "outputs": [
    {
     "data": {
      "text/plain": [
       "<Image layer 'reference' at 0x1b68df7d908>"
      ]
     },
     "execution_count": 31,
     "metadata": {},
     "output_type": "execute_result"
    }
   ],
   "source": [
    "v = napari.view_labels(reference_rois)\n",
    "v.add_image(reference)"
   ]
  },
  {
   "cell_type": "code",
   "execution_count": 32,
   "metadata": {},
   "outputs": [],
   "source": [
    "brain_mask = (v.layers[-1]._data == 0).astype(int)"
   ]
  },
  {
   "cell_type": "code",
   "execution_count": 21,
   "metadata": {},
   "outputs": [
    {
     "data": {
      "text/plain": [
       "Viewer(axes=Axes(visible=False, labels=True, colored=True, dashed=False, arrows=True), camera=Camera(center=(0.0, 511.5, 384.5), zoom=1.1849462365591399, angles=(0.0, 0.0, 90.0), interactive=True), cursor=Cursor(position=(0.0, 0.0, 0.0), scaled=True, size=1, style='standard'), dims=Dims(ndim=3, ndisplay=2, last_used=2, range=((0.0, 23.0, 1.0), (0.0, 1023.0, 1.0), (0.0, 769.0, 1.0)), current_step=(0, 0, 0), order=(0, 1, 2), axis_labels=('0', '1', '2')), grid=GridCanvas(enabled=False, stride=1, shape=(-1, -1)), layers=[<Image layer 'brain_mask' at 0x1b68b9dae08>], scale_bar=ScaleBar(visible=False, colored=False, ticks=True, position='bottom_right'), active_layer=<Image layer 'brain_mask' at 0x1b68b9dae08>, help='', status='Ready', theme='dark', title='napari', mouse_move_callbacks=[], mouse_drag_callbacks=[], mouse_wheel_callbacks=[<function dims_scroll at 0x000001B6E6B801F8>], _persisted_mouse_event={}, _mouse_drag_gen={}, _mouse_wheel_gen={}, keymap={})"
      ]
     },
     "execution_count": 21,
     "metadata": {},
     "output_type": "execute_result"
    }
   ],
   "source": [
    "napari.view_image(brain_mask)"
   ]
  },
  {
   "cell_type": "code",
   "execution_count": 33,
   "metadata": {},
   "outputs": [],
   "source": [
    "# fl.save(list_exp[-1] / \"brain_mask.h5\", brain_mask)\n",
    "fl.save(exp / \"brain_mask.h5\", brain_mask)"
   ]
  },
  {
   "cell_type": "code",
   "execution_count": 34,
   "metadata": {},
   "outputs": [],
   "source": [
    "clean_reference_rois = brain_mask * reference_rois\n",
    "clean_reference_rois[clean_reference_rois==0] = -1"
   ]
  },
  {
   "cell_type": "code",
   "execution_count": 35,
   "metadata": {},
   "outputs": [
    {
     "data": {
      "text/plain": [
       "Viewer(axes=Axes(visible=False, labels=True, colored=True, dashed=False, arrows=True), camera=Camera(center=(0.0, 510.5, 385.5), zoom=1.1872673849167483, angles=(0.0, 0.0, 90.0), interactive=True), cursor=Cursor(position=(0.0, 0.0, 0.0), scaled=True, size=10, style='standard'), dims=Dims(ndim=3, ndisplay=2, last_used=2, range=((0.0, 22.0, 1.0), (0.0, 1021.0, 1.0), (0.0, 771.0, 1.0)), current_step=(0, 0, 0), order=(0, 1, 2), axis_labels=('0', '1', '2')), grid=GridCanvas(enabled=False, stride=1, shape=(-1, -1)), layers=[<Labels layer 'clean_reference_rois' at 0x1b68dd567c8>], scale_bar=ScaleBar(visible=False, colored=False, ticks=True, position='bottom_right'), active_layer=<Labels layer 'clean_reference_rois' at 0x1b68dd567c8>, help='enter paint or fill mode to edit labels', status='Ready', theme='dark', title='napari', mouse_move_callbacks=[], mouse_drag_callbacks=[], mouse_wheel_callbacks=[<function dims_scroll at 0x000001B6E6B801F8>], _persisted_mouse_event={}, _mouse_drag_gen={}, _mouse_wheel_gen={}, keymap={})"
      ]
     },
     "execution_count": 35,
     "metadata": {},
     "output_type": "execute_result"
    }
   ],
   "source": [
    "napari.view_labels(clean_reference_rois)"
   ]
  },
  {
   "cell_type": "code",
   "execution_count": 36,
   "metadata": {},
   "outputs": [],
   "source": [
    "clean_reference_rois[0,:,:] = -1\n",
    "clean_reference_rois[-1,:,:] = -1"
   ]
  },
  {
   "cell_type": "code",
   "execution_count": 37,
   "metadata": {},
   "outputs": [],
   "source": [
    "# fl.save(list_exp[-1] / \"roi_to_use.h5\", clean_reference_rois)\n",
    "fl.save(exp / \"roi_to_use.h5\", clean_reference_rois)"
   ]
  },
  {
   "cell_type": "code",
   "execution_count": 191,
   "metadata": {},
   "outputs": [],
   "source": [
    "# id_to_transform = list(np.unique(clean_reference_rois))\n",
    "# roi_canvas = np.zeros(clean_reference_rois.shape)\n",
    "# for rigid_transf, path_exp in zip (transf_matrices, list_exp[:-1]):\n",
    "# #     roi_canvas_to_use = roi_canvas.copy()\n",
    "# #     roi_canvas_to_use_mask = roi_canvas.copy()\n",
    "# #     for id_ in id_to_transform:\n",
    "# #         morphed_roi = (rigid_transf.transform_inverse((reference_rois == id_).astype(int)) > 0.2).astype(int)\n",
    "#     morphed_roi = rigid_transf.transform_inverse(clean_reference_rois, interpolation=\"nearest\")\n",
    "# #         roi_canvas_to_use_mask += morphed_roi\n",
    "# #         roi_canvas_to_use += (morphed_roi*id_)\n",
    "# #         roi_canvas_to_use[roi_canvas_to_use_mask>1] == -1\n",
    "# #         roi_canvas_to_use_mask[roi_canvas_to_use_mask>1] == -1\n",
    "# #         if id_ % 200 == 0:\n",
    "# #             print(id_, \"/\", id_to_transform[-1])\n",
    "#     fl.save(path_exp / \"roi_to_use.h5\", morphed_roi) "
   ]
  },
  {
   "cell_type": "code",
   "execution_count": 198,
   "metadata": {},
   "outputs": [
    {
     "data": {
      "text/plain": [
       "<Labels layer 'morphed_roi' at 0x1708cb44648>"
      ]
     },
     "execution_count": 198,
     "metadata": {},
     "output_type": "execute_result"
    }
   ],
   "source": [
    "# v = napari.view_labels(clean_reference_rois)\n",
    "# v.add_labels(morphed_roi)"
   ]
  },
  {
   "cell_type": "code",
   "execution_count": 18,
   "metadata": {},
   "outputs": [],
   "source": [
    "n_anat = 0"
   ]
  },
  {
   "cell_type": "code",
   "execution_count": 19,
   "metadata": {},
   "outputs": [],
   "source": [
    "manual_transforms = []"
   ]
  },
  {
   "cell_type": "code",
   "execution_count": 20,
   "metadata": {},
   "outputs": [],
   "source": [
    "#Open stacks in napari\n",
    "functional_viewer = napari.view_image(reference)\n",
    "reference_viewer = napari.view_image(anatomies[n_anat])\n",
    "#Now we retrieve the points we just defined..."
   ]
  },
  {
   "cell_type": "code",
   "execution_count": 21,
   "metadata": {},
   "outputs": [],
   "source": [
    "functional_points = functional_viewer.layers[1].data\n",
    "reference_points = reference_viewer.layers[1].data\n",
    "\n",
    "X = np.pad(reference_points, ((0,0), (0,1)), mode=\"constant\", constant_values=1)\n",
    "Y = functional_points\n",
    "\n",
    "#...and we use some math magic to perform an initial fit \n",
    "#(this line performs some sort of lineal regression to find a transform ma\n",
    "transform_mat =  (np.linalg.pinv(X.T @ X) @ X.T @ Y).T\n",
    "transformed = map_affine(reference, transform_mat, anatomies[n_anat].shape)"
   ]
  },
  {
   "cell_type": "code",
   "execution_count": 22,
   "metadata": {},
   "outputs": [],
   "source": [
    "manual_transforms.append(transform_mat)"
   ]
  },
  {
   "cell_type": "code",
   "execution_count": 23,
   "metadata": {},
   "outputs": [
    {
     "data": {
      "text/plain": [
       "1"
      ]
     },
     "execution_count": 23,
     "metadata": {},
     "output_type": "execute_result"
    }
   ],
   "source": [
    "len(manual_transforms)"
   ]
  },
  {
   "cell_type": "code",
   "execution_count": 24,
   "metadata": {},
   "outputs": [
    {
     "data": {
      "text/plain": [
       "<Image layer 'transformed' at 0x2dc14ef7348>"
      ]
     },
     "execution_count": 24,
     "metadata": {},
     "output_type": "execute_result"
    }
   ],
   "source": [
    "v = napari.view_image(anatomies[n_anat], colormap=\"green\", blending=\"additive\")\n",
    "v.add_image(transformed, colormap=\"magenta\", blending=\"additive\")\n",
    "# v.add_image(morphed_anatomies[1], colormap=\"green\", blending=\"additive\")"
   ]
  },
  {
   "cell_type": "code",
   "execution_count": 25,
   "metadata": {},
   "outputs": [
    {
     "name": "stdout",
     "output_type": "stream",
     "text": [
      "\\\\FUNES\\Shared\\experiments\\virtual_gradients_experiments\\Batch_8(food+flow)\\220721_f0\\imaging\\flow\n"
     ]
    }
   ],
   "source": [
    "for rigid_transf, path_exp, anatomy_in_loop in zip (manual_transforms, list_exp[:-1], anatomies):\n",
    "    morphed_roi = map_affine(clean_reference_rois, rigid_transf, anatomy_in_loop.shape,order=0)\n",
    "    print(path_exp)\n",
    "    fl.save(path_exp / \"roi_to_use.h5\", morphed_roi) "
   ]
  },
  {
   "cell_type": "code",
   "execution_count": 27,
   "metadata": {},
   "outputs": [
    {
     "data": {
      "text/plain": [
       "Viewer(axes=Axes(visible=False, labels=True, colored=True, dashed=False, arrows=True), camera=Camera(center=(0.0, 339.5, 492.5), zoom=1.2306598984771575, angles=(0.0, 0.0, 90.0), interactive=True), cursor=Cursor(position=(0.0, 0.0, 0.0), scaled=True, size=10, style='standard'), dims=Dims(ndim=3, ndisplay=2, last_used=2, range=((0.0, 22.0, 1.0), (0.0, 679.0, 1.0), (0.0, 985.0, 1.0)), current_step=(0, 0, 0), order=(0, 1, 2), axis_labels=('0', '1', '2')), grid=GridCanvas(enabled=False, stride=1, shape=(-1, -1)), layers=[<Labels layer 'clean_reference_rois' at 0x2dc15d2b808>], scale_bar=ScaleBar(visible=False, colored=False, ticks=True, position='bottom_right'), active_layer=<Labels layer 'clean_reference_rois' at 0x2dc15d2b808>, help='enter paint or fill mode to edit labels', status='Ready', theme='dark', title='napari', mouse_move_callbacks=[], mouse_drag_callbacks=[], mouse_wheel_callbacks=[<function dims_scroll at 0x000002DC0239D288>], _persisted_mouse_event={}, _mouse_drag_gen={}, _mouse_wheel_gen={}, keymap={})"
      ]
     },
     "execution_count": 27,
     "metadata": {},
     "output_type": "execute_result"
    }
   ],
   "source": [
    "napari.view_labels(clean_reference_rois)"
   ]
  },
  {
   "cell_type": "code",
   "execution_count": 28,
   "metadata": {},
   "outputs": [],
   "source": [
    "rs = fl.load(r\"\\\\FUNES\\Shared\\experiments\\virtual_gradients_experiments\\Batch_8(food+flow)\\220721_f0\\imaging\\flow\\roi_to_use.h5\")"
   ]
  },
  {
   "cell_type": "code",
   "execution_count": 30,
   "metadata": {},
   "outputs": [
    {
     "data": {
      "text/plain": [
       "Viewer(axes=Axes(visible=False, labels=True, colored=True, dashed=False, arrows=True), camera=Camera(center=(0.0, 339.5, 492.5), zoom=1.2306598984771575, angles=(0.0, 0.0, 90.0), interactive=True), cursor=Cursor(position=(0.0, 0.0, 0.0), scaled=True, size=10, style='standard'), dims=Dims(ndim=3, ndisplay=2, last_used=2, range=((0.0, 22.0, 1.0), (0.0, 679.0, 1.0), (0.0, 985.0, 1.0)), current_step=(0, 0, 0), order=(0, 1, 2), axis_labels=('0', '1', '2')), grid=GridCanvas(enabled=False, stride=1, shape=(-1, -1)), layers=[<Labels layer 'rs' at 0x2dc096146c8>], scale_bar=ScaleBar(visible=False, colored=False, ticks=True, position='bottom_right'), active_layer=<Labels layer 'rs' at 0x2dc096146c8>, help='enter paint or fill mode to edit labels', status='Ready', theme='dark', title='napari', mouse_move_callbacks=[], mouse_drag_callbacks=[], mouse_wheel_callbacks=[<function dims_scroll at 0x000002DC0239D288>], _persisted_mouse_event={}, _mouse_drag_gen={}, _mouse_wheel_gen={}, keymap={})"
      ]
     },
     "execution_count": 30,
     "metadata": {},
     "output_type": "execute_result"
    }
   ],
   "source": [
    "napari.view_labels(rs)"
   ]
  },
  {
   "cell_type": "code",
   "execution_count": 33,
   "metadata": {},
   "outputs": [
    {
     "name": "stderr",
     "output_type": "stream",
     "text": [
      "100%|████████████████████████████████████████████████████████████████████████████████| 3/3 [4:53:23<00:00, 5867.84s/it]\n"
     ]
    },
    {
     "name": "stdout",
     "output_type": "stream",
     "text": [
      "Wall time: 4h 53min 23s\n"
     ]
    }
   ],
   "source": [
    "%%time\n",
    "for exp_path in tqdm(list_exp):\n",
    "    roi_stack = fl.load(exp_path / \"roi_to_use.h5\")\n",
    "    extract_traces(SplitDataset(exp_path / \"aligned\"), roi_stack, n_jobs=3, block_duration=10)"
   ]
  },
  {
   "cell_type": "code",
   "execution_count": 65,
   "metadata": {},
   "outputs": [],
   "source": [
    "transformed = map_affine(clean_reference_rois, manual_transforms[0], anatomies[0].shape,order=0)"
   ]
  },
  {
   "cell_type": "code",
   "execution_count": 72,
   "metadata": {},
   "outputs": [
    {
     "data": {
      "text/plain": [
       "<Labels layer 'transformed' at 0x1f33f27dc88>"
      ]
     },
     "execution_count": 72,
     "metadata": {},
     "output_type": "execute_result"
    },
    {
     "data": {
      "text/plain": [
       "<Labels layer 'transformed' at 0x1f33f27dc88>"
      ]
     },
     "execution_count": 72,
     "metadata": {},
     "output_type": "execute_result"
    },
    {
     "data": {
      "text/plain": [
       "<Labels layer 'transformed' at 0x1f33f27dc88>"
      ]
     },
     "execution_count": 72,
     "metadata": {},
     "output_type": "execute_result"
    }
   ],
   "source": [
    "v = napari.view_image(anatomies[0])\n",
    "v.add_labels(transformed)"
   ]
  },
  {
   "cell_type": "code",
   "execution_count": 85,
   "metadata": {},
   "outputs": [],
   "source": [
    "result = []\n",
    "for exp in list_exp:\n",
    "    result.append(fl.load(exp / \"roi_to_use.h5\"))"
   ]
  },
  {
   "cell_type": "code",
   "execution_count": 86,
   "metadata": {},
   "outputs": [
    {
     "data": {
      "text/plain": [
       "<Labels layer 'Labels [2]' at 0x1f3412a31c8>"
      ]
     },
     "execution_count": 86,
     "metadata": {},
     "output_type": "execute_result"
    },
    {
     "data": {
      "text/plain": [
       "<Labels layer 'Labels [2]' at 0x1f3412a31c8>"
      ]
     },
     "execution_count": 86,
     "metadata": {},
     "output_type": "execute_result"
    },
    {
     "data": {
      "text/plain": [
       "<Labels layer 'Labels [2]' at 0x1f3412a31c8>"
      ]
     },
     "execution_count": 86,
     "metadata": {},
     "output_type": "execute_result"
    }
   ],
   "source": [
    "v = napari.view_labels(result[0])\n",
    "v.add_labels(result[1])\n",
    "v.add_labels(result[2])"
   ]
  }
 ],
 "metadata": {
  "kernelspec": {
   "display_name": "Python 3",
   "language": "python",
   "name": "python3"
  },
  "language_info": {
   "codemirror_mode": {
    "name": "ipython",
    "version": 3
   },
   "file_extension": ".py",
   "mimetype": "text/x-python",
   "name": "python",
   "nbconvert_exporter": "python",
   "pygments_lexer": "ipython3",
   "version": "3.7.4"
  }
 },
 "nbformat": 4,
 "nbformat_minor": 4
}
