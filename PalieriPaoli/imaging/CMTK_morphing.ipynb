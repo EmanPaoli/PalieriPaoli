{
 "cells": [
  {
   "cell_type": "code",
   "execution_count": null,
   "metadata": {},
   "outputs": [],
   "source": [
    "def open_file(path):\n",
    "    file = open(path, \"r\")\n",
    "    content = file.read().split(\"\\n\\n\")\n",
    "    content.pop(-1)\n",
    "    matrix = np.zeros((len(content),3))\n",
    "    for n, triplet in enumerate(content):\n",
    "\n",
    "        for nn, number in enumerate(triplet.split(\" \")):\n",
    "            if nn<3:\n",
    "                matrix[n,nn] = float(number) \n",
    "    return matrix\n",
    "\n",
    "make_initial_affine --centers-of-mass sample.nrrd reference.nrrd initial.xform\n",
    "registrationx --initial initial.xform --dofs 3,6,9 --auto-multi-levels 4 -o anatomy2affine.xform sample.nrrd reference.nrrd\n",
    "\n",
    "reformatx -o anatomy2_affine.nrrd --floating sample.nrrd reference.nrrd anatomy2affine.xform\n",
    "\n",
    "warp -o anatomy2warp.xform --grid-spacing 150 --exploration 90 --energy-weight 0.5 --refine 6 --initial anatomy2affine.xform sample.nrrd reference.nrrd\n",
    "\n",
    "np.savetxt(str(path_out/(master_path.name+\"_exp_coords.list\")), coords_good[np.isfinite(coords_good[:,0]),:], newline='\\r\\n', delimiter=\"\\t\",fmt=\"%d %d %d\")\n",
    "\n",
    "streamxform -- --inverse 210604_f0_AO.xform <210604_f0_exp_coords.list> 210604_f0_AO_coords.list "
   ]
  },
  {
   "cell_type": "code",
   "execution_count": 2,
   "metadata": {},
   "outputs": [
    {
     "name": "stdout",
     "output_type": "stream",
     "text": [
      "Microsoft Windows [Version 10.0.18363.1256]\n",
      "(c) 2019 Microsoft Corporation. All rights reserved.\n",
      "\n",
      "(base) C:\\Users\\epaoli\\RelValenceProject\\imaging>cd C:\\Users\\epaoli\\Desktop\\RegistrationDebug\n",
      "\n",
      "(base) C:\\Users\\epaoli\\Desktop\\RegistrationDebug>streamxform -- --inverse affine_shear.xform <test_exp_roi_coords.list> test_exp_roi_coords_transf.list \n",
      "\n",
      "(base) C:\\Users\\epaoli\\Desktop\\RegistrationDebug>Wall time: 757 ms\n"
     ]
    }
   ],
   "source": [
    "%%time\n",
    "%%cmd\n",
    "cd C:\\Users\\epaoli\\Desktop\\RegistrationDebug\n",
    "streamxform -- --inverse affine_shear.xform <test_exp_roi_coords.list> test_exp_roi_coords_transf.list "
   ]
  },
  {
   "cell_type": "code",
   "execution_count": null,
   "metadata": {},
   "outputs": [],
   "source": [
    "warp -o anatomy2warp.xform --grid-spacing 150 --exploration 90 --energy-weight 0.5 --refine 6 --initial anatomy2affine.xform sample.nrrd reference.nrrd"
   ]
  },
  {
   "cell_type": "code",
   "execution_count": null,
   "metadata": {},
   "outputs": [],
   "source": [
    "np.savetxt(str(path_out/(master_path.name+\"_exp_coords.list\")), coords_good[np.isfinite(coords_good[:,0]),:], newline='\\r\\n', delimiter=\"\\t\",fmt=\"%d %d %d\")"
   ]
  },
  {
   "cell_type": "code",
   "execution_count": null,
   "metadata": {},
   "outputs": [],
   "source": [
    "streamxform -- --inverse 210604_f0_AO.xform <210604_f0_exp_coords.list> 210604_f0_AO_coords.list "
   ]
  },
  {
   "cell_type": "code",
   "execution_count": 26,
   "metadata": {},
   "outputs": [
    {
     "name": "stdout",
     "output_type": "stream",
     "text": [
      "Microsoft Windows [Version 10.0.18363.1256]\r\n",
      "(c) 2019 Microsoft Corporation. All rights reserved.\r\n",
      "\r\n",
      "(base) C:\\Users\\epaoli\\ValenceProject\\imaging>cd C:\\Users\\epaoli\\Desktop\\CMTK_folder_down\n",
      "\r\n",
      "(base) C:\\Users\\epaoli\\Desktop\\CMTK_folder_down>make_initial_affine --centers-of-mass HUCref.nrrd labref.nrrd initial.xform\n",
      "\r\n",
      "(base) C:\\Users\\epaoli\\Desktop\\CMTK_folder_down>registration --initial initial.xform --dofs 3,6,9 --auto-multi-levels 4 -o anatomy2affine.xform HUCref.nrrd labref.nrrd\n",
      "\r\n",
      "(base) C:\\Users\\epaoli\\Desktop\\CMTK_folder_down>"
     ]
    },
    {
     "name": "stderr",
     "output_type": "stream",
     "text": [
      "WARNING: image does not have valid orientation meta information; cannot reorient.\n",
      "WARNING: image does not have valid orientation meta information; cannot reorient.\n",
      "WARNING: image does not have valid orientation meta information; cannot reorient.\n",
      "WARNING: image does not have valid orientation meta information; cannot reorient.\n"
     ]
    },
    {
     "name": "stdout",
     "output_type": "stream",
     "text": [
      "Wall time: 19min 13s\n"
     ]
    }
   ],
   "source": [
    "%%time\n",
    "%%cmd\n",
    "cd C:\\Users\\epaoli\\Desktop\\CMTK_folder_down\n",
    "make_initial_affine --centers-of-mass HUCref.nrrd labref.nrrd initial.xform\n",
    "registration --initial initial.xform --dofs 3,6,9 --auto-multi-levels 4 -o anatomy2affine.xform HUCref.nrrd labref.nrrd"
   ]
  },
  {
   "cell_type": "code",
   "execution_count": 593,
   "metadata": {
    "scrolled": true
   },
   "outputs": [
    {
     "name": "stdout",
     "output_type": "stream",
     "text": [
      "Microsoft Windows [Version 10.0.18363.1256]\r\n",
      "(c) 2019 Microsoft Corporation. All rights reserved.\r\n",
      "\r\n",
      "(base) C:\\Users\\epaoli\\ValenceProject\\imaging>cd C:\\Users\\epaoli\\Desktop\\CMTK_folder_down\n",
      "\r\n",
      "(base) C:\\Users\\epaoli\\Desktop\\CMTK_folder_down>reformatx -o anatomy2_affine.nrrd --floating labref.nrrd HUCref.nrrd anatomy2affine.xform\n",
      "\r\n",
      "(base) C:\\Users\\epaoli\\Desktop\\CMTK_folder_down>"
     ]
    },
    {
     "name": "stderr",
     "output_type": "stream",
     "text": [
      "WARNING: image does not have valid orientation meta information; cannot reorient.\n",
      "WARNING: image does not have valid orientation meta information; cannot reorient.\n",
      "WARNING: trying to change image coordinate space, but no current space is defined. Coordinate system of the resulting image is very likely incorrect.\n"
     ]
    },
    {
     "name": "stdout",
     "output_type": "stream",
     "text": [
      "Wall time: 16.7 s\n"
     ]
    }
   ],
   "source": [
    "%%time\n",
    "%%cmd\n",
    "cd C:\\Users\\epaoli\\Desktop\\CMTK_folder_down\n",
    "reformatx -o anatomy2_affine.nrrd --floating labref.nrrd HUCref.nrrd anatomy2affine.xform"
   ]
  },
  {
   "cell_type": "code",
   "execution_count": 9,
   "metadata": {
    "scrolled": true
   },
   "outputs": [
    {
     "name": "stdout",
     "output_type": "stream",
     "text": [
      "Microsoft Windows [Version 10.0.18363.1256]\r\n",
      "(c) 2019 Microsoft Corporation. All rights reserved.\r\n",
      "\r\n",
      "(base) C:\\Users\\epaoli\\ValenceProject\\imaging>cd C:\\Users\\epaoli\\Desktop\\CMTK_folder_down\n",
      "\r\n",
      "(base) C:\\Users\\epaoli\\Desktop\\CMTK_folder_down>warp -o anatomy2warp.xform --grid-spacing 150 --exploration 90 --energy-weight 0.5 --refine 6 --initial anatomy2affine.xform HUCref.nrrd labref.nrrd\n",
      "\r\n",
      "(base) C:\\Users\\epaoli\\Desktop\\CMTK_folder_down>reformatx -o anatomy2warp.nrrd --floating labref.nrrd HUCref.nrrd anatomy2warp.xform\n",
      "\r\n",
      "(base) C:\\Users\\epaoli\\Desktop\\CMTK_folder_down>"
     ]
    },
    {
     "name": "stderr",
     "output_type": "stream",
     "text": [
      "WARNING: image does not have valid orientation meta information; cannot reorient.\n",
      "WARNING: image does not have valid orientation meta information; cannot reorient.\n",
      "WARNING: image does not have valid orientation meta information; cannot reorient.\n",
      "WARNING: image does not have valid orientation meta information; cannot reorient.\n",
      "WARNING: trying to change image coordinate space, but no current space is defined. Coordinate system of the resulting image is very likely incorrect.\n"
     ]
    },
    {
     "name": "stdout",
     "output_type": "stream",
     "text": [
      "Wall time: 12h 37min 20s\n"
     ]
    }
   ],
   "source": [
    "%%time\n",
    "%%cmd\n",
    "cd C:\\Users\\epaoli\\Desktop\\CMTK_folder_down\n",
    "warp -o anatomy2warp.xform --grid-spacing 150 --exploration 90 --energy-weight 0.5 --refine 6 --initial anatomy2affine.xform HUCref.nrrd labref.nrrd\n",
    "reformatx -o anatomy2warp.nrrd --floating labref.nrrd HUCref.nrrd anatomy2warp.xform"
   ]
  },
  {
   "cell_type": "code",
   "execution_count": 5,
   "metadata": {},
   "outputs": [],
   "source": [
    "###Single fish"
   ]
  },
  {
   "cell_type": "code",
   "execution_count": 131,
   "metadata": {
    "scrolled": true
   },
   "outputs": [
    {
     "name": "stdout",
     "output_type": "stream",
     "text": [
      "Microsoft Windows [Version 10.0.18363.1256]\r\n",
      "(c) 2019 Microsoft Corporation. All rights reserved.\r\n",
      "\r\n",
      "(base) C:\\Users\\epaoli\\ValenceProject\\imaging>cd C:\\Users\\epaoli\\Desktop\\CMTK_folder_down\n",
      "\r\n",
      "(base) C:\\Users\\epaoli\\Desktop\\CMTK_folder_down>#make_initial_affine --centers-of-mass labref.nrrd 210702_f0.nrrd initial_210702_f0.xform\n",
      "\r\n",
      "(base) C:\\Users\\epaoli\\Desktop\\CMTK_folder_down>registration --initial initial_210702_f0.xform --dofs 6,9 --auto-multi-levels 4 --exploration 4 -o 210702_f0.xform labref.nrrd 210702_f0.nrrd\n",
      "\r\n",
      "(base) C:\\Users\\epaoli\\Desktop\\CMTK_folder_down>reformatx -o 210702_f0_affine.nrrd --floating 210702_f0.nrrd labref.nrrd 210702_f0.xform\n",
      "\r\n",
      "(base) C:\\Users\\epaoli\\Desktop\\CMTK_folder_down>"
     ]
    },
    {
     "name": "stderr",
     "output_type": "stream",
     "text": [
      "'#make_initial_affine' is not recognized as an internal or external command,\r\n",
      "operable program or batch file.\r\n",
      "WARNING: image does not have valid orientation meta information; cannot reorient.\n",
      "WARNING: image does not have valid orientation meta information; cannot reorient.\n",
      "WARNING: image does not have valid orientation meta information; cannot reorient.\n",
      "WARNING: image does not have valid orientation meta information; cannot reorient.\n",
      "WARNING: trying to change image coordinate space, but no current space is defined. Coordinate system of the resulting image is very likely incorrect.\n"
     ]
    },
    {
     "name": "stdout",
     "output_type": "stream",
     "text": [
      "Wall time: 6min 56s\n"
     ]
    }
   ],
   "source": [
    "%%time\n",
    "%%cmd\n",
    "cd C:\\Users\\epaoli\\Desktop\\CMTK_folder_down\n",
    "#make_initial_affine --centers-of-mass labref.nrrd 210702_f0.nrrd initial_210702_f0.xform\n",
    "registration --initial initial_210702_f0.xform --dofs 6,9 --auto-multi-levels 4 --exploration 4 -o 210702_f0.xform labref.nrrd 210702_f0.nrrd\n",
    "reformatx -o 210702_f0_affine.nrrd --floating 210702_f0.nrrd labref.nrrd 210702_f0.xform"
   ]
  },
  {
   "cell_type": "code",
   "execution_count": 144,
   "metadata": {},
   "outputs": [
    {
     "name": "stdout",
     "output_type": "stream",
     "text": [
      "Microsoft Windows [Version 10.0.18363.1256]\r\n",
      "(c) 2019 Microsoft Corporation. All rights reserved.\r\n",
      "\r\n",
      "(base) C:\\Users\\epaoli\\ValenceProject\\imaging>cd C:\\Users\\epaoli\\Desktop\\CMTK_folder_down\n",
      "\r\n",
      "(base) C:\\Users\\epaoli\\Desktop\\CMTK_folder_down>reformatx -o 210702_f0_affine.nrrd --floating 210702_f0.nrrd labref.nrrd 210702_f0.xform\n",
      "\r\n",
      "(base) C:\\Users\\epaoli\\Desktop\\CMTK_folder_down>"
     ]
    },
    {
     "name": "stderr",
     "output_type": "stream",
     "text": [
      "WARNING: image does not have valid orientation meta information; cannot reorient.\n",
      "WARNING: image does not have valid orientation meta information; cannot reorient.\n",
      "WARNING: trying to change image coordinate space, but no current space is defined. Coordinate system of the resulting image is very likely incorrect.\n"
     ]
    },
    {
     "name": "stdout",
     "output_type": "stream",
     "text": [
      "Wall time: 16.5 s\n"
     ]
    }
   ],
   "source": [
    "%%time\n",
    "%%cmd\n",
    "cd C:\\Users\\epaoli\\Desktop\\CMTK_folder_down\n",
    "reformatx -o 210702_f0_affine.nrrd --floating 210702_f0.nrrd labref.nrrd 210702_f0.xform"
   ]
  },
  {
   "cell_type": "code",
   "execution_count": 145,
   "metadata": {},
   "outputs": [
    {
     "name": "stdout",
     "output_type": "stream",
     "text": [
      "Microsoft Windows [Version 10.0.18363.1256]\r\n",
      "(c) 2019 Microsoft Corporation. All rights reserved.\r\n",
      "\r\n",
      "(base) C:\\Users\\epaoli\\ValenceProject\\imaging>cd C:\\Users\\epaoli\\Desktop\\CMTK_folder_down\n",
      "\r\n",
      "(base) C:\\Users\\epaoli\\Desktop\\CMTK_folder_down>warp -o adam2warp.xform --grid-spacing 120 --exploration 90 --energy-weight 1 --refine 6 --initial 210702_f0.xform labref.nrrd 210702_f0.nrrd\n",
      "\r\n",
      "(base) C:\\Users\\epaoli\\Desktop\\CMTK_folder_down>reformatx -o anatomy2warp.nrrd --floating 210702_f0.nrrd labref.nrrd adam2warp.xform\n",
      "\r\n",
      "(base) C:\\Users\\epaoli\\Desktop\\CMTK_folder_down>"
     ]
    },
    {
     "name": "stderr",
     "output_type": "stream",
     "text": [
      "WARNING: image does not have valid orientation meta information; cannot reorient.\n",
      "WARNING: image does not have valid orientation meta information; cannot reorient.\n",
      "WARNING: image does not have valid orientation meta information; cannot reorient.\n",
      "WARNING: image does not have valid orientation meta information; cannot reorient.\n",
      "WARNING: trying to change image coordinate space, but no current space is defined. Coordinate system of the resulting image is very likely incorrect.\n"
     ]
    },
    {
     "name": "stdout",
     "output_type": "stream",
     "text": [
      "Wall time: 10h 52min 47s\n"
     ]
    }
   ],
   "source": [
    "%%time\n",
    "%%cmd\n",
    "cd C:\\Users\\epaoli\\Desktop\\CMTK_folder_down\n",
    "warp -o adam2warp.xform --grid-spacing 120 --exploration 90 --energy-weight 1 --refine 6 --initial 210702_f0.xform labref.nrrd 210702_f0.nrrd\n",
    "reformatx -o anatomy2warp.nrrd --floating 210702_f0.nrrd labref.nrrd adam2warp.xform"
   ]
  },
  {
   "cell_type": "code",
   "execution_count": null,
   "metadata": {},
   "outputs": [],
   "source": [
    "registration --initial pre_adam.xform --dofs 6,9 --auto-multi-levels 3 -o AO2labref.xform labref.nrrd AO.nrrd"
   ]
  },
  {
   "cell_type": "code",
   "execution_count": null,
   "metadata": {},
   "outputs": [],
   "source": [
    "make_initial_affine --centers-of-mass MPINref.nrrd AO.nrrd pre_adam.xform\n"
   ]
  },
  {
   "cell_type": "code",
   "execution_count": null,
   "metadata": {},
   "outputs": [],
   "source": [
    "registration --initial pre_adam.xform --dofs 6,9 --auto-multi-levels 3 -o AO2mpin.xform MPINref.nrrd AO.nrrd\n"
   ]
  },
  {
   "cell_type": "code",
   "execution_count": 223,
   "metadata": {},
   "outputs": [
    {
     "name": "stdout",
     "output_type": "stream",
     "text": [
      "Microsoft Windows [Version 10.0.18363.1256]\r\n",
      "(c) 2019 Microsoft Corporation. All rights reserved.\r\n",
      "\r\n",
      "(base) C:\\Users\\epaoli\\ValenceProject\\imaging>cd C:\\Users\\epaoli\\Desktop\\CMTK_folder\n",
      "\r\n",
      "(base) C:\\Users\\epaoli\\Desktop\\CMTK_folder>reformatx -o AO2mpin_affine.nrrd --floating AO.nrrd MPINref.nrrd AO2mpin.xform\n",
      "\r\n",
      "(base) C:\\Users\\epaoli\\Desktop\\CMTK_folder>"
     ]
    },
    {
     "name": "stderr",
     "output_type": "stream",
     "text": [
      "WARNING: image does not have valid orientation meta information; cannot reorient.\n",
      "WARNING: image does not have valid orientation meta information; cannot reorient.\n",
      "WARNING: trying to change image coordinate space, but no current space is defined. Coordinate system of the resulting image is very likely incorrect.\n"
     ]
    },
    {
     "name": "stdout",
     "output_type": "stream",
     "text": [
      "Wall time: 10.7 s\n"
     ]
    }
   ],
   "source": [
    "%%time\n",
    "%%cmd\n",
    "cd C:\\Users\\epaoli\\Desktop\\CMTK_folder\n",
    "reformatx -o AO2mpin_affine.nrrd --floating AO.nrrd MPINref.nrrd AO2mpin.xform"
   ]
  },
  {
   "cell_type": "code",
   "execution_count": 225,
   "metadata": {},
   "outputs": [
    {
     "name": "stdout",
     "output_type": "stream",
     "text": [
      "Microsoft Windows [Version 10.0.18363.1256]\r\n",
      "(c) 2019 Microsoft Corporation. All rights reserved.\r\n",
      "\r\n",
      "(base) C:\\Users\\epaoli\\ValenceProject\\imaging>cd C:\\Users\\epaoli\\Desktop\\CMTK_folder\n",
      "\r\n",
      "(base) C:\\Users\\epaoli\\Desktop\\CMTK_folder>warp -o AO2mpin_warp.xform --grid-spacing 180 --exploration 80 --energy-weight 0.8 --refine 6 --initial AO2mpin.xform MPINref.nrrd AO.nrrd\n",
      "\r\n",
      "(base) C:\\Users\\epaoli\\Desktop\\CMTK_folder>reformatx -o AO2mpin_nonaffine.nrrd --floating AO.nrrd MPINref.nrrd AO2mpin_warp.xform\n",
      "\r\n",
      "(base) C:\\Users\\epaoli\\Desktop\\CMTK_folder>"
     ]
    },
    {
     "name": "stderr",
     "output_type": "stream",
     "text": [
      "WARNING: image does not have valid orientation meta information; cannot reorient.\n",
      "WARNING: image does not have valid orientation meta information; cannot reorient.\n",
      "WARNING: image does not have valid orientation meta information; cannot reorient.\n",
      "WARNING: image does not have valid orientation meta information; cannot reorient.\n",
      "WARNING: trying to change image coordinate space, but no current space is defined. Coordinate system of the resulting image is very likely incorrect.\n"
     ]
    },
    {
     "name": "stdout",
     "output_type": "stream",
     "text": [
      "Wall time: 2d 8h 2min 29s\n"
     ]
    }
   ],
   "source": [
    "%%time\n",
    "%%cmd\n",
    "cd C:\\Users\\epaoli\\Desktop\\CMTK_folder\n",
    "warp -o AO2mpin_warp.xform --grid-spacing 180 --exploration 80 --energy-weight 0.8 --refine 6 --initial AO2mpin.xform MPINref.nrrd AO.nrrd\n",
    "reformatx -o AO2mpin_nonaffine.nrrd --floating AO.nrrd MPINref.nrrd AO2mpin_warp.xform"
   ]
  },
  {
   "cell_type": "code",
   "execution_count": null,
   "metadata": {},
   "outputs": [],
   "source": []
  },
  {
   "cell_type": "code",
   "execution_count": null,
   "metadata": {},
   "outputs": [],
   "source": []
  },
  {
   "cell_type": "code",
   "execution_count": 107,
   "metadata": {},
   "outputs": [
    {
     "name": "stdout",
     "output_type": "stream",
     "text": [
      "Microsoft Windows [Version 10.0.18363.1256]\r\n",
      "(c) 2019 Microsoft Corporation. All rights reserved.\r\n",
      "\r\n",
      "(base) C:\\Users\\epaoli\\ValenceProject\\imaging>cd C:\\Users\\epaoli\\Desktop\\CMTK_folder\n",
      "\r\n",
      "(base) C:\\Users\\epaoli\\Desktop\\CMTK_folder>reformatx -o 210702_f1_affine0.nrrd --floating 210702_f1.nrrd adam.nrrd 210702_f1.xform\n",
      "\r\n",
      "(base) C:\\Users\\epaoli\\Desktop\\CMTK_folder>"
     ]
    },
    {
     "name": "stderr",
     "output_type": "stream",
     "text": [
      "WARNING: image does not have valid orientation meta information; cannot reorient.\n",
      "WARNING: image does not have valid orientation meta information; cannot reorient.\n",
      "WARNING: trying to change image coordinate space, but no current space is defined. Coordinate system of the resulting image is very likely incorrect.\n"
     ]
    },
    {
     "name": "stdout",
     "output_type": "stream",
     "text": [
      "Wall time: 1.94 s\n"
     ]
    }
   ],
   "source": [
    "%%time\n",
    "%%cmd\n",
    "cd C:\\Users\\epaoli\\Desktop\\CMTK_folder\n",
    "reformatx -o 210702_f1_affine0.nrrd --floating 210702_f1.nrrd adam.nrrd 210702_f1.xform"
   ]
  },
  {
   "cell_type": "code",
   "execution_count": null,
   "metadata": {},
   "outputs": [],
   "source": [
    "list_fish = [Path(r\"\\\\FUNES\\Shared\\experiments\\virtual_gradients_experiments\\Batch_1\\210504_f0\"), #H2b\n",
    "            Path(r\"\\\\FUNES\\Shared\\experiments\\virtual_gradients_experiments\\Batch_1\\210504_f1\"), #H2b\n",
    "             Path(r\"\\\\FUNES\\Shared\\experiments\\virtual_gradients_experiments\\Batch_2\\210514_f0\"), #H2b\n",
    "            Path(r\"\\\\FUNES\\Shared\\experiments\\virtual_gradients_experiments\\Batch_2\\210514_f1\"), #H2b\n",
    "            Path(r\"\\\\FUNES\\Shared\\experiments\\virtual_gradients_experiments\\Batch_4\\210607_f0\"]#H2b "
   ]
  },
  {
   "cell_type": "code",
   "execution_count": 146,
   "metadata": {},
   "outputs": [],
   "source": [
    "#single fish"
   ]
  },
  {
   "cell_type": "code",
   "execution_count": null,
   "metadata": {},
   "outputs": [],
   "source": [
    "make_initial_affine --centers-of-mass AO.nrrd 210514_f0.nrrd initial_210514_f0_AO.xform\n",
    "registration --initial initial_210702_f0.xform\n",
    "registration --initxlate"
   ]
  },
  {
   "cell_type": "code",
   "execution_count": 160,
   "metadata": {},
   "outputs": [
    {
     "name": "stdout",
     "output_type": "stream",
     "text": [
      "Microsoft Windows [Version 10.0.18363.1256]\r\n",
      "(c) 2019 Microsoft Corporation. All rights reserved.\r\n",
      "\r\n",
      "(base) C:\\Users\\epaoli\\ValenceProject\\imaging>cd C:\\Users\\epaoli\\Desktop\\CMTK_folder\n",
      "\r\n",
      "(base) C:\\Users\\epaoli\\Desktop\\CMTK_folder>\n",
      "(base) C:\\Users\\epaoli\\Desktop\\CMTK_folder>registration --initxlate --dofs 6,9 --auto-multi-levels 3 -o 210702_f0_AO.xform AO.nrrd 210702_f0.nrrd\n",
      "\r\n",
      "(base) C:\\Users\\epaoli\\Desktop\\CMTK_folder>reformatx -o 210702_f0_affine_AO.nrrd --floating 210702_f0.nrrd AO.nrrd 210702_f0_AO.xform\n",
      "\r\n",
      "(base) C:\\Users\\epaoli\\Desktop\\CMTK_folder>"
     ]
    },
    {
     "name": "stderr",
     "output_type": "stream",
     "text": [
      "WARNING: image does not have valid orientation meta information; cannot reorient.\n",
      "WARNING: image does not have valid orientation meta information; cannot reorient.\n",
      "WARNING: image does not have valid orientation meta information; cannot reorient.\n",
      "WARNING: image does not have valid orientation meta information; cannot reorient.\n",
      "WARNING: trying to change image coordinate space, but no current space is defined. Coordinate system of the resulting image is very likely incorrect.\n"
     ]
    },
    {
     "name": "stdout",
     "output_type": "stream",
     "text": [
      "Wall time: 1min 43s\n"
     ]
    }
   ],
   "source": [
    "%%time\n",
    "%%cmd\n",
    "cd C:\\Users\\epaoli\\Desktop\\CMTK_folder\n",
    "\n",
    "registration --initxlate --dofs 6,9 --auto-multi-levels 3 -o 210702_f0_AO.xform AO.nrrd 210702_f0.nrrd\n",
    "reformatx -o 210702_f0_affine_AO.nrrd --floating 210702_f0.nrrd AO.nrrd 210702_f0_AO.xform"
   ]
  },
  {
   "cell_type": "code",
   "execution_count": 1,
   "metadata": {},
   "outputs": [],
   "source": [
    "###Masks"
   ]
  },
  {
   "cell_type": "code",
   "execution_count": null,
   "metadata": {},
   "outputs": [],
   "source": [
    "annotations_mpin.nrrd"
   ]
  },
  {
   "cell_type": "code",
   "execution_count": 299,
   "metadata": {},
   "outputs": [
    {
     "name": "stdout",
     "output_type": "stream",
     "text": [
      "Microsoft Windows [Version 10.0.18363.1256]\r\n",
      "(c) 2019 Microsoft Corporation. All rights reserved.\r\n",
      "\r\n",
      "(base) C:\\Users\\epaoli\\ValenceProject\\imaging>cd C:\\Users\\epaoli\\Desktop\\CMTK_folder\n",
      "\r\n",
      "(base) C:\\Users\\epaoli\\Desktop\\CMTK_folder>reformatx -o labelsmpin2lab.nrrd --floating annotations_mpin.nrrd labref.nrrd --inverse labref2mpin.xform\n",
      "\r\n",
      "(base) C:\\Users\\epaoli\\Desktop\\CMTK_folder>"
     ]
    },
    {
     "name": "stderr",
     "output_type": "stream",
     "text": [
      "WARNING: image does not have valid orientation meta information; cannot reorient.\n",
      "WARNING: image does not have valid orientation meta information; cannot reorient.\n",
      "WARNING: trying to change image coordinate space, but no current space is defined. Coordinate system of the resulting image is very likely incorrect.\n"
     ]
    },
    {
     "name": "stdout",
     "output_type": "stream",
     "text": [
      "Wall time: 49min 38s\n"
     ]
    }
   ],
   "source": [
    "%%time\n",
    "%%cmd\n",
    "cd C:\\Users\\epaoli\\Desktop\\CMTK_folder\n",
    "reformatx -o labelsmpin2lab.nrrd --floating annotations_mpin.nrrd labref.nrrd --inverse labref2mpin.xform"
   ]
  },
  {
   "cell_type": "code",
   "execution_count": 1,
   "metadata": {},
   "outputs": [],
   "source": [
    "%gui qt"
   ]
  },
  {
   "cell_type": "code",
   "execution_count": 2,
   "metadata": {},
   "outputs": [],
   "source": [
    "from pathlib import Path\n",
    "import flammkuchen as fl\n",
    "import numpy as np\n",
    "import napari\n",
    "from split_dataset import SplitDataset\n",
    "import tifffile"
   ]
  },
  {
   "cell_type": "code",
   "execution_count": 19,
   "metadata": {},
   "outputs": [],
   "source": [
    "def open_file(path):\n",
    "    file = open(path, \"r\")\n",
    "    content = file.read().split(\"\\n\\n\")\n",
    "    content.pop(-1)\n",
    "    matrix = np.zeros((len(content),3))\n",
    "    for n, triplet in enumerate(content):\n",
    "\n",
    "        for nn, number in enumerate(triplet.split(\" \")):\n",
    "            if nn<3:\n",
    "                matrix[n,nn] = float(number) \n",
    "    return matrix"
   ]
  },
  {
   "cell_type": "code",
   "execution_count": 3,
   "metadata": {},
   "outputs": [],
   "source": [
    "stack = tifffile.imread(r\"C:\\Users\\epaoli\\Desktop\\CMTK_folder\\HUCref.tif\")"
   ]
  },
  {
   "cell_type": "code",
   "execution_count": 182,
   "metadata": {},
   "outputs": [],
   "source": [
    "AO = tifffile.imread(r\"C:\\Users\\epaoli\\Desktop\\CMTK_folder\\AO.tif\")"
   ]
  },
  {
   "cell_type": "code",
   "execution_count": 146,
   "metadata": {},
   "outputs": [],
   "source": [
    "# AO = tifffile.imread(r\"C:\\Users\\epaoli\\Desktop\\CMTK_folder\\210702_f0_affine_AO.tif\")"
   ]
  },
  {
   "cell_type": "code",
   "execution_count": 4,
   "metadata": {},
   "outputs": [],
   "source": [
    "#from exp to MPIN space"
   ]
  },
  {
   "cell_type": "code",
   "execution_count": 122,
   "metadata": {},
   "outputs": [],
   "source": [
    "list_fish = [Path(r\"\\\\FUNES\\Shared\\experiments\\virtual_gradients_experiments\\Batch_1\\210504_f0\"), #H2b\n",
    "            Path(r\"\\\\FUNES\\Shared\\experiments\\virtual_gradients_experiments\\Batch_1\\210504_f1\"), #H2b\n",
    "             Path(r\"\\\\FUNES\\Shared\\experiments\\virtual_gradients_experiments\\Batch_2\\210514_f0\"), #H2b\n",
    "            Path(r\"\\\\FUNES\\Shared\\experiments\\virtual_gradients_experiments\\Batch_2\\210514_f1\"), #H2b\n",
    "            Path(r\"\\\\FUNES\\Shared\\experiments\\virtual_gradients_experiments\\Batch_4\\210607_f0\")]#H2b"
   ]
  },
  {
   "cell_type": "code",
   "execution_count": 195,
   "metadata": {},
   "outputs": [],
   "source": [
    "master_path = list_fish[8]\n",
    "main_path = master_path / \"imaging\"\n",
    "coords = fl.load(main_path / \"temp\" / \"traces.h5\")[\"coords\"]"
   ]
  },
  {
   "cell_type": "code",
   "execution_count": 196,
   "metadata": {},
   "outputs": [],
   "source": [
    "xy = 0.6\n",
    "z = 9.6\n",
    "dims_ = np.array([744,868])"
   ]
  },
  {
   "cell_type": "code",
   "execution_count": 197,
   "metadata": {},
   "outputs": [],
   "source": [
    "coords_good = np.stack([coords[:,1]*xy,abs((coords[:,2]*xy)-(dims_[1]*xy)),(coords[:,0]-1)*z],1)"
   ]
  },
  {
   "cell_type": "code",
   "execution_count": 198,
   "metadata": {},
   "outputs": [],
   "source": [
    "path_out = Path(r\"C:\\Users\\epaoli\\Desktop\\CMTK_folder\")"
   ]
  },
  {
   "cell_type": "code",
   "execution_count": 199,
   "metadata": {},
   "outputs": [],
   "source": [
    "np.savetxt(str(path_out/(master_path.name+\"_exp_coords.list\")), coords_good[np.isfinite(coords_good[:,0]),:], newline='\\r\\n', delimiter=\"\\t\",fmt=\"%d %d %d\")"
   ]
  },
  {
   "cell_type": "code",
   "execution_count": 13,
   "metadata": {},
   "outputs": [],
   "source": [
    "# np.savetxt(str(path_out/(master_path.name+\"_sentinella_coords.list\")), good_coord_sentinella, newline='\\r\\n', delimiter=\"\\t\")"
   ]
  },
  {
   "cell_type": "code",
   "execution_count": 542,
   "metadata": {},
   "outputs": [
    {
     "name": "stdout",
     "output_type": "stream",
     "text": [
      "Microsoft Windows [Version 10.0.18363.1256]\n",
      "(c) 2019 Microsoft Corporation. All rights reserved.\n",
      "\n",
      "(base) C:\\Users\\epaoli\\ValenceProject\\imaging>cd C:\\Users\\epaoli\\Desktop\\CMTK_folder\n",
      "\n",
      "(base) C:\\Users\\epaoli\\Desktop\\CMTK_folder>streamxform -- --inverse 210514_f1.xform <210514_f1_sentinella_coords.list> 210514_f1_adam_coords_sentinella.list \n",
      "\n",
      "(base) C:\\Users\\epaoli\\Desktop\\CMTK_folder>streamxform -- --inverse adam2warp.xform <210514_f1_adam_coords_sentinella.list> 210514_f1_labref_coords_sentinella.list \n",
      "\n",
      "(base) C:\\Users\\epaoli\\Desktop\\CMTK_folder>streamxform -- --inverse labref2mpin.xform <210514_f1_labref_coords_sentinella.list> 210514_f1_mpin_coords_sentinella.list\n",
      "\n",
      "(base) C:\\Users\\epaoli\\Desktop\\CMTK_folder>Wall time: 46.1 s\n"
     ]
    }
   ],
   "source": [
    "# %%time\n",
    "# %%cmd\n",
    "# cd C:\\Users\\epaoli\\Desktop\\CMTK_folder\n",
    "# streamxform -- --inverse 210514_f1.xform <210514_f1_sentinella_coords.list> 210514_f1_adam_coords_sentinella.list \n",
    "# streamxform -- --inverse adam2warp.xform <210514_f1_adam_coords_sentinella.list> 210514_f1_labref_coords_sentinella.list \n",
    "# streamxform -- --inverse labref2mpin.xform <210514_f1_labref_coords_sentinella.list> 210514_f1_mpin_coords_sentinella.list"
   ]
  },
  {
   "cell_type": "code",
   "execution_count": 200,
   "metadata": {},
   "outputs": [
    {
     "name": "stdout",
     "output_type": "stream",
     "text": [
      "Microsoft Windows [Version 10.0.18363.1256]\n",
      "(c) 2019 Microsoft Corporation. All rights reserved.\n",
      "\n",
      "(base) C:\\Users\\epaoli\\ValenceProject\\imaging>cd C:\\Users\\epaoli\\Desktop\\CMTK_folder\n",
      "\n",
      "(base) C:\\Users\\epaoli\\Desktop\\CMTK_folder>streamxform -- --inverse 210604_f0_AO.xform <210604_f0_exp_coords.list> 210604_f0_AO_coords.list \n",
      "\n",
      "(base) C:\\Users\\epaoli\\Desktop\\CMTK_folder>Wall time: 2.83 s\n"
     ]
    }
   ],
   "source": [
    "%%time\n",
    "%%cmd\n",
    "cd C:\\Users\\epaoli\\Desktop\\CMTK_folder\n",
    "streamxform -- --inverse 210604_f0_AO.xform <210604_f0_exp_coords.list> 210604_f0_AO_coords.list "
   ]
  },
  {
   "cell_type": "code",
   "execution_count": 548,
   "metadata": {
    "scrolled": true
   },
   "outputs": [
    {
     "name": "stdout",
     "output_type": "stream",
     "text": [
      "Microsoft Windows [Version 10.0.18363.1256]\n",
      "(c) 2019 Microsoft Corporation. All rights reserved.\n",
      "\n",
      "(base) C:\\Users\\epaoli\\ValenceProject\\imaging>cd C:\\Users\\epaoli\\Desktop\\CMTK_folder\n",
      "\n",
      "(base) C:\\Users\\epaoli\\Desktop\\CMTK_folder>streamxform -- --inverse 210514_f1.xform <210514_f1_exp_coords.list> 210514_f1_adam_coords.list \n",
      "\n",
      "(base) C:\\Users\\epaoli\\Desktop\\CMTK_folder>streamxform -- --inverse adam2warp.xform <210514_f1_adam_coords.list> 210514_f1_labref_coords.list \n",
      "\n",
      "(base) C:\\Users\\epaoli\\Desktop\\CMTK_folder>streamxform -- --inverse labref2mpin.xform <210514_f1_labref_coords.list> 210514_f1_mpin_coords.list\n",
      "\n",
      "(base) C:\\Users\\epaoli\\Desktop\\CMTK_folder>Wall time: 56.6 s\n"
     ]
    }
   ],
   "source": [
    "# %%time\n",
    "# %%cmd\n",
    "# cd C:\\Users\\epaoli\\Desktop\\CMTK_folder\n",
    "# streamxform -- --inverse 210514_f1.xform <210514_f1_exp_coords.list> 210514_f1_adam_coords.list \n",
    "# streamxform -- --inverse adam2warp.xform <210514_f1_adam_coords.list> 210514_f1_labref_coords.list \n",
    "# streamxform -- --inverse labref2mpin.xform <210514_f1_labref_coords.list> 210514_f1_mpin_coords.list"
   ]
  },
  {
   "cell_type": "code",
   "execution_count": 397,
   "metadata": {},
   "outputs": [],
   "source": [
    "# path = r\"C:\\Users\\epaoli\\Desktop\\CMTK_folder\\210514_f1_mpin_coords_sentinella.list\"\n",
    "# matrix_sent = open_file(path)  \n",
    "# hab_point = np.array([246,235,303])\n",
    "# correction_factor = (hab_point - matrix_sent)[0]"
   ]
  },
  {
   "cell_type": "code",
   "execution_count": 201,
   "metadata": {},
   "outputs": [],
   "source": [
    "path = r\"C:\\Users\\epaoli\\Desktop\\CMTK_folder\\210604_f0_AO_coords.list\"\n",
    "matrix = open_file(path)  "
   ]
  },
  {
   "cell_type": "code",
   "execution_count": 202,
   "metadata": {},
   "outputs": [],
   "source": [
    "coords_mpin = np.zeros((matrix.shape))\n",
    "for i in range(matrix.shape[0]):\n",
    "    coords_mpin[i,:] = np.array([matrix[i,2]/9.6,matrix[i,1]/0.6,matrix[i,0]/0.6])"
   ]
  },
  {
   "cell_type": "code",
   "execution_count": 203,
   "metadata": {},
   "outputs": [
    {
     "data": {
      "text/plain": [
       "<Points layer 'coords_mpin' at 0x18a03494908>"
      ]
     },
     "execution_count": 203,
     "metadata": {},
     "output_type": "execute_result"
    }
   ],
   "source": [
    "v = napari.view_image(AO)\n",
    "v.add_points(coords_mpin,n_dimensional = True,size=4)"
   ]
  },
  {
   "cell_type": "code",
   "execution_count": 204,
   "metadata": {},
   "outputs": [],
   "source": [
    "fl.save(path_out / (master_path.name+\"AO_coord_ok.h5\"),coords_mpin)"
   ]
  },
  {
   "cell_type": "code",
   "execution_count": 205,
   "metadata": {},
   "outputs": [
    {
     "data": {
      "text/plain": [
       "WindowsPath('//FUNES/Shared/experiments/virtual_gradients_experiments/Batch_4/210604_f0')"
      ]
     },
     "execution_count": 205,
     "metadata": {},
     "output_type": "execute_result"
    }
   ],
   "source": [
    "master_path"
   ]
  },
  {
   "cell_type": "code",
   "execution_count": 206,
   "metadata": {},
   "outputs": [
    {
     "data": {
      "text/plain": [
       "'210604_f0AO_coord_ok.h5'"
      ]
     },
     "execution_count": 206,
     "metadata": {},
     "output_type": "execute_result"
    }
   ],
   "source": [
    "master_path.name+\"AO_coord_ok.h5\""
   ]
  },
  {
   "cell_type": "code",
   "execution_count": 232,
   "metadata": {},
   "outputs": [
    {
     "name": "stdout",
     "output_type": "stream",
     "text": [
      "Microsoft Windows [Version 10.0.18363.1256]\r\n",
      "(c) 2019 Microsoft Corporation. All rights reserved.\r\n",
      "\r\n",
      "(base) C:\\Users\\epaoli\\ValenceProject\\imaging>cd C:\\Users\\epaoli\\Desktop\\CMTK_folder\n",
      "\r\n",
      "(base) C:\\Users\\epaoli\\Desktop\\CMTK_folder>\n",
      "(base) C:\\Users\\epaoli\\Desktop\\CMTK_folder>registration --initxlate --dofs 6,9 --auto-multi-levels 3 -o hr2_aff.xform hr0.nrrd hr2.nrrd\n",
      "\r\n",
      "(base) C:\\Users\\epaoli\\Desktop\\CMTK_folder>reformatx -o hr1_affine.nrrd --floating hr2.nrrd hr0.nrrd hr2_aff.xform\n",
      "\r\n",
      "(base) C:\\Users\\epaoli\\Desktop\\CMTK_folder>"
     ]
    },
    {
     "name": "stderr",
     "output_type": "stream",
     "text": [
      "WARNING: image does not have valid orientation meta information; cannot reorient.\n",
      "WARNING: image does not have valid orientation meta information; cannot reorient.\n",
      "WARNING: image does not have valid orientation meta information; cannot reorient.\n",
      "WARNING: image does not have valid orientation meta information; cannot reorient.\n",
      "WARNING: trying to change image coordinate space, but no current space is defined. Coordinate system of the resulting image is very likely incorrect.\n"
     ]
    },
    {
     "name": "stdout",
     "output_type": "stream",
     "text": [
      "Wall time: 2min 18s\n"
     ]
    }
   ],
   "source": [
    "%%time\n",
    "%%cmd\n",
    "cd C:\\Users\\epaoli\\Desktop\\CMTK_folder\n",
    "\n",
    "registration --initxlate --dofs 6,9 --auto-multi-levels 3 -o hr2_aff.xform hr0.nrrd hr2.nrrd\n",
    "reformatx -o hr1_affine.nrrd --floating hr2.nrrd hr0.nrrd hr2_aff.xform"
   ]
  },
  {
   "cell_type": "code",
   "execution_count": null,
   "metadata": {},
   "outputs": [],
   "source": [
    "reformatx -o h1_affine.nrrd --floating h1.nrrd h0.nrrd h1_aff.xform"
   ]
  }
 ],
 "metadata": {
  "kernelspec": {
   "display_name": "Python 3",
   "language": "python",
   "name": "python3"
  },
  "language_info": {
   "codemirror_mode": {
    "name": "ipython",
    "version": 3
   },
   "file_extension": ".py",
   "mimetype": "text/x-python",
   "name": "python",
   "nbconvert_exporter": "python",
   "pygments_lexer": "ipython3",
   "version": "3.7.4"
  }
 },
 "nbformat": 4,
 "nbformat_minor": 2
}
