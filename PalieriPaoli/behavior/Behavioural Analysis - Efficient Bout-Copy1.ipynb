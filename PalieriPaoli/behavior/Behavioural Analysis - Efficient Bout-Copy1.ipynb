{
 "cells": [
  {
   "cell_type": "code",
   "execution_count": 1,
   "metadata": {},
   "outputs": [],
   "source": [
    "%matplotlib widget"
   ]
  },
  {
   "cell_type": "code",
   "execution_count": 2,
   "metadata": {
    "scrolled": true
   },
   "outputs": [],
   "source": [
    "import flammkuchen as fl\n",
    "import matplotlib.pyplot as plt\n",
    "import numpy as np\n",
    "from pathlib import Path\n",
    "import json\n",
    "import imageio\n",
    "from scipy.stats import sem\n",
    "import seaborn as sns\n",
    "from bouter.free import FreelySwimmingExperiment\n",
    "import pandas as pd\n",
    "from scipy import signal\n",
    "from tqdm import tqdm\n",
    "from scipy.stats import zscore\n",
    "from scipy.interpolate import interp1d\n",
    "from sklearn.neighbors import KernelDensity as kde\n",
    "from scipy.stats import linregress\n",
    "from scipy.signal import medfilt\n",
    "from scipy.signal import savgol_filter\n",
    "from scipy.stats import mannwhitneyu"
   ]
  },
  {
   "cell_type": "code",
   "execution_count": 3,
   "metadata": {},
   "outputs": [],
   "source": [
    "def clip(x_):\n",
    "    x_[x_>200]=200\n",
    "    x_[x_<0]= 0\n",
    "    return x_\n",
    "def clean_augment(x_,stim_fun,setpoint):\n",
    "    out_ = []\n",
    "    for df_ in x_:\n",
    "        if \"flip_x_start\" in df_.keys():\n",
    "            pass\n",
    "        else:\n",
    "            df_[\"flip_x_start\"] = df_[\"al_start_x\"]\n",
    "            df_[\"flip_y_start\"] = df_[\"al_start_y\"]\n",
    "            \n",
    "            df_[\"flip_x_end\"] = df_[\"al_end_x\"]\n",
    "            df_[\"flip_y_end\"] = df_[\"al_end_y\"]\n",
    "        df_[\"flip_x_start\"] = clip(df_[\"flip_x_start\"].values)\n",
    "        try:\n",
    "            df_[\"flip_x_end\"] = clip(df_[\"flip_x_end\"].values)\n",
    "        except:\n",
    "            df_[\"flip_x_end\"] = clip(df_[\"al_end_x\"].values)\n",
    "        out_.append(augment(df_,stim_fun,setpoint))\n",
    "    return out_\n",
    "\n",
    "\n",
    "def dist_setpoint(values,setpoint):\n",
    "    return abs(values - setpoint)\n",
    "\n",
    "def augment(bout_properties,fun,setpoint,time_th=2):\n",
    "    border_x = [10, 190]\n",
    "    border_y = [5, 45]\n",
    "    x_start = []\n",
    "    x_end = []\n",
    "    temp_start = []\n",
    "    temp_end = []\n",
    "    temp_pre = []\n",
    "    delta = []\n",
    "    delta_prev = []\n",
    "    out = []\n",
    "    prev_biases = []\n",
    "    temporal_distance = []\n",
    "    prev_bout = None\n",
    "    prev_bias = None\n",
    "    prev_temp = None\n",
    "    delta_prev_prev_bout = None\n",
    "    delta_prev_bout = np.nan\n",
    "    for i in range(len(bout_properties)):\n",
    "        \n",
    "        bout = bout_properties.iloc[i]\n",
    "        if prev_bout is not None:\n",
    "            temporal_distance = bout[\"t_start\"] - prev_bout[\"t_end\"] \n",
    "            if (temporal_distance <= time_th)& (delta_prev_bout!=np.nan):\n",
    "                delta_prev_prev_bout = delta_prev_bout\n",
    "            else:\n",
    "                delta_prev_prev_bout  = np.nan\n",
    "                \n",
    "        if prev_bout is not None:\n",
    "            temporal_distance = bout[\"t_start\"] - prev_bout[\"t_end\"] \n",
    "            if temporal_distance <= time_th:\n",
    "                prev_bias = prev_bout[\"theta_bout\"]\n",
    "                \n",
    "                delta_prev_bout = dist_setpoint(float(fun(prev_bout[\"flip_x_start\"])),setpoint) - dist_setpoint(float(fun(bout[\"flip_x_start\"])),setpoint)\n",
    "                prev_temp = dist_setpoint(float(fun(prev_bout[\"flip_x_start\"])),setpoint)\n",
    "            else:\n",
    "                delta_prev_bout  = np.nan\n",
    "                prev_bias = np.nan\n",
    "                prev_temp = np.nan\n",
    "            \n",
    "        temp_start.append(dist_setpoint(float(fun(bout[\"flip_x_start\"])),setpoint))\n",
    "        delta.append(delta_prev_bout)\n",
    "        delta_prev.append(delta_prev_prev_bout)\n",
    "        x_start.append(bout['flip_x_start'])\n",
    "        temp_pre.append(prev_temp)\n",
    "        prev_biases.append(prev_bias)\n",
    "        if (border_x[0] <= bout[\"flip_x_start\"] <= border_x[1]) and (border_y[0] <= bout[\"y_start\"] <= border_y[1]):\n",
    "            is_out = False\n",
    "        else:\n",
    "            is_out = True\n",
    "        out.append(is_out)\n",
    "        prev_bout = bout.copy()\n",
    "    bout_properties[\"temp_start\"] = temp_start\n",
    "    bout_properties[\"delta\"]=delta\n",
    "    bout_properties[\"delta_1\"]=delta_prev\n",
    "    bout_properties[\"out\"]=out\n",
    "    bout_properties[\"prev_bias\"]=prev_biases\n",
    "    bout_properties[\"prev_temp\"] = temp_pre\n",
    "    return bout_properties\n",
    "\n",
    "def prefered_temperature(x_position,times,resolution=2):\n",
    "    result = medfilt(np.interp(np.linspace(0,15*60,15*60*resolution),\n",
    "            times,x_position),3)\n",
    "    return np.nanmedian(result[600*resolution:])\n",
    "\n",
    "def set_size(w,h, ax=None):\n",
    "    \"\"\" w, h: width, height in inches \"\"\"\n",
    "    if not ax: ax=plt.gca()\n",
    "    l = ax.figure.subplotpars.left\n",
    "    r = ax.figure.subplotpars.right\n",
    "    t = ax.figure.subplotpars.top\n",
    "    b = ax.figure.subplotpars.bottom\n",
    "    figw = float(w)/(r-l)\n",
    "    figh = float(h)/(t-b)\n",
    "    ax.figure.set_size_inches(figw, figh)"
   ]
  },
  {
   "cell_type": "code",
   "execution_count": 4,
   "metadata": {},
   "outputs": [],
   "source": [
    "plt.rcParams.update({'font.size': 25})"
   ]
  },
  {
   "cell_type": "code",
   "execution_count": 5,
   "metadata": {},
   "outputs": [],
   "source": [
    "setpoint_wt = 25.280104571722397\n",
    "setpoint_hb = 27.89187878451635"
   ]
  },
  {
   "cell_type": "code",
   "execution_count": 7,
   "metadata": {},
   "outputs": [],
   "source": [
    "full_dataset = fl.load(r\"F:\\experiments\\virtual_gradients_experiments\\freely_swim_Ruben\\data.h5\")\n",
    "transfer_fun = interp1d(full_dataset[\"stimulus_calibration\"][0,:],\n",
    "                             full_dataset[\"stimulus_calibration\"][1,:],\n",
    "                             kind=\"quadratic\")\n",
    "\n",
    "WT = clean_augment(full_dataset[\"WT\"].copy(),transfer_fun,setpoint_wt)\n",
    "Hbpos_pre = clean_augment(full_dataset[\"Hbpos_pre_ablation\"].copy(),transfer_fun,setpoint_hb)\n",
    "Hbneg_post = clean_augment(full_dataset[\"Hbneg_post_ablation\"].copy(),transfer_fun,setpoint_hb)\n",
    "Hbpos_post = clean_augment(full_dataset[\"Hbpos_ablation\"].copy(),transfer_fun,setpoint_hb)"
   ]
  },
  {
   "cell_type": "code",
   "execution_count": 8,
   "metadata": {},
   "outputs": [
    {
     "name": "stdout",
     "output_type": "stream",
     "text": [
      "25 23 14\n"
     ]
    }
   ],
   "source": [
    "print(len(Hbpos_pre),len(Hbneg_post),len(Hbpos_post))"
   ]
  },
  {
   "cell_type": "code",
   "execution_count": 8,
   "metadata": {},
   "outputs": [],
   "source": [
    "def square(bins_,to_split_x,to_split_y,to_quant,add=None):\n",
    "    out_ = np.zeros((bins_.shape[0]-1,bins_.shape[0]-1))*np.nan\n",
    "    counts_ = np.zeros((bins_.shape[0]-1,bins_.shape[0]-1))*np.nan\n",
    "    for p0,(s_0,e_0) in enumerate(zip(bins_[:-1],bins_[1:])):\n",
    "        for p1,(s_1,e_1) in enumerate(zip(bins_[:-1],bins_[1:])):\n",
    "            to_take = (to_split_x>=s_0)&(to_split_y>=s_1)&(to_split_x<e_0)&(to_split_y<e_1)\n",
    "            selected = to_quant[to_take]\n",
    "            #value = np.nansum(abs(selected)>np.deg2rad(10)) / selected.shape[0]\n",
    "            value = np.nanmedian(selected)#*np.sign(add[to_take])))\n",
    "            out_[p1,p0] = value\n",
    "            counts_[p1,p0] = selected.shape[0]\n",
    "    return out_*(counts_>100)"
   ]
  },
  {
   "cell_type": "code",
   "execution_count": 13,
   "metadata": {},
   "outputs": [
    {
     "name": "stderr",
     "output_type": "stream",
     "text": [
      "C:\\Users\\epaoli\\anaconda3\\lib\\site-packages\\ipykernel_launcher.py:12: RuntimeWarning: invalid value encountered in greater\n",
      "  if sys.path[0] == '':\n",
      "C:\\Users\\epaoli\\anaconda3\\lib\\site-packages\\ipykernel_launcher.py:12: RuntimeWarning: invalid value encountered in less\n",
      "  if sys.path[0] == '':\n",
      "C:\\Users\\epaoli\\anaconda3\\lib\\site-packages\\ipykernel_launcher.py:14: RuntimeWarning: invalid value encountered in less\n",
      "  \n",
      "C:\\Users\\epaoli\\anaconda3\\lib\\site-packages\\ipykernel_launcher.py:22: RuntimeWarning: invalid value encountered in greater\n"
     ]
    }
   ],
   "source": [
    "dist_pt_th = -1\n",
    "threshold_dpt = 0.1333\n",
    "mod_index_wt_up_prev = []\n",
    "mod_index_wt_down_prev = []\n",
    "\n",
    "mod_index_wt_up_current = []\n",
    "mod_index_wt_down_current = []\n",
    "\n",
    "for i_fish, fish_ in enumerate(WT):\n",
    "    is_in = fish_[\"out\"].values == False\n",
    "    dist_pt = fish_[\"delta\"].values[is_in]\n",
    "    in_iso = (dist_pt>-threshold_dpt)&(dist_pt<threshold_dpt)\n",
    "    iso_bouts = fish_.iloc[is_in].iloc[in_iso]\n",
    "    above_th = (iso_bouts[\"delta_1\"].values<-threshold_dpt)#&(abs(iso_bouts[\"prev_bias\"].values)>np.deg2rad(30))\n",
    "    \n",
    "    choice_bout = iso_bouts[\"theta_bout\"].values[above_th]\n",
    " \n",
    "    factor = np.sign(iso_bouts[\"prev_bias\"].values[above_th])\n",
    "    mod_index_wt_up_prev.extend(iso_bouts[\"prev_bias\"].values[above_th]*factor)\n",
    "    mod_index_wt_up_current.extend(iso_bouts[\"theta_bout\"].values[above_th]*factor)\n",
    "    \n",
    "    below_th = (iso_bouts[\"delta_1\"].values>threshold_dpt)#&(abs(iso_bouts[\"prev_bias\"].values)>np.deg2rad(30))\n",
    "    choice_bout = iso_bouts[\"theta_bout\"].values[below_th]\n",
    "    #choice_bout[iso_bouts[\"prev_bias\"].values[below_th]<0] = -choice_bout[iso_bouts[\"prev_bias\"].values[below_th]<0]\n",
    "    #c_down,_ = np.histogram(choice_bout, np.array([-np.inf,-np.deg2rad(10),np.deg2rad(10),np.inf]))\n",
    "    #c_down = c_down / np.sum(c_down)\n",
    "    factor = np.sign(iso_bouts[\"prev_bias\"].values[below_th])\n",
    "    mod_index_wt_down_prev.extend(iso_bouts[\"prev_bias\"].values[below_th]*factor)\n",
    "    mod_index_wt_down_current.extend(iso_bouts[\"theta_bout\"].values[below_th]*factor)\n",
    "#mod_index_wt_down = np.stack(mod_index_wt_down,0)"
   ]
  },
  {
   "cell_type": "code",
   "execution_count": 442,
   "metadata": {
    "scrolled": true
   },
   "outputs": [
    {
     "name": "stderr",
     "output_type": "stream",
     "text": [
      "C:\\Users\\Asus\\Anaconda3\\lib\\site-packages\\ipykernel_launcher.py:4: RuntimeWarning: invalid value encountered in long_scalars\n",
      "  after removing the cwd from sys.path.\n"
     ]
    }
   ],
   "source": [
    "dist_pt_th = -1\n",
    "threshold_dpt = 0.05\n",
    "mod_index_wt = []\n",
    "for i_fish, fish_ in enumerate(WT):\n",
    "    is_in = fish_[\"out\"].values == False\n",
    "    distant = fish_[\"temp_start\"].values >= dist_pt_th\n",
    "    dist_pt = fish_[\"delta\"].values[is_in&distant]\n",
    "    in_iso = (dist_pt>-threshold_dpt)&(dist_pt<threshold_dpt)\n",
    "    iso_bouts = fish_.iloc[is_in&distant].iloc[in_iso]\n",
    "    above_th = iso_bouts[\"delta_1\"].values<-threshold_dpt\n",
    "    #below_th = iso_bouts[\"delta_1\"].values<-threshold_dpt\n",
    "    choice_bout = iso_bouts[\"theta_bout\"].values[above_th]\n",
    "    choice_bout[iso_bouts[\"prev_bias\"].values[above_th]<0] = -choice_bout[iso_bouts[\"prev_bias\"].values[above_th]<0]\n",
    "    mod_index_wt.append(li(choice_bout))\n",
    "mod_index_wt = np.stack(mod_index_wt,0)\n",
    "\n",
    "\n",
    "mod_index_Hbneg_post = []\n",
    "for i_fish, fish_ in enumerate(Hbneg_post):\n",
    "    is_in = fish_[\"out\"].values == False\n",
    "    distant = fish_[\"temp_start\"].values >= dist_pt_th\n",
    "    dist_pt = fish_[\"delta\"].values[is_in&distant]\n",
    "    in_iso = (dist_pt>-threshold_dpt)&(dist_pt<threshold_dpt)\n",
    "    iso_bouts = fish_.iloc[is_in&distant].iloc[in_iso]\n",
    "    above_th = iso_bouts[\"delta_1\"].values<-threshold_dpt\n",
    "    #below_th = iso_bouts[\"delta_1\"].values<-threshold_dpt\n",
    "    choice_bout = iso_bouts[\"theta_bout\"].values[above_th]\n",
    "    choice_bout[iso_bouts[\"prev_bias\"].values[above_th]<0] = -choice_bout[iso_bouts[\"prev_bias\"].values[above_th]<0]\n",
    "    mod_index_Hbneg_post.append(li(choice_bout))\n",
    "mod_index_Hbneg_post = np.stack(mod_index_Hbneg_post,0)\n",
    "\n",
    "mod_index_Hbpos_pre = []\n",
    "for i_fish, fish_ in enumerate(Hbpos_pre):\n",
    "    is_in = fish_[\"out\"].values == False\n",
    "    distant = fish_[\"temp_start\"].values >= dist_pt_th\n",
    "    dist_pt = fish_[\"delta\"].values[is_in&distant]\n",
    "    in_iso = (dist_pt>-threshold_dpt)&(dist_pt<threshold_dpt)\n",
    "    iso_bouts = fish_.iloc[is_in&distant].iloc[in_iso]\n",
    "    above_th = iso_bouts[\"delta_1\"].values<-threshold_dpt\n",
    "    #below_th = iso_bouts[\"delta_1\"].values<-threshold_dpt\n",
    "    choice_bout = iso_bouts[\"theta_bout\"].values[above_th]\n",
    "    choice_bout[iso_bouts[\"prev_bias\"].values[above_th]<0] = -choice_bout[iso_bouts[\"prev_bias\"].values[above_th]<0]\n",
    "    mod_index_Hbpos_pre.append(li(choice_bout))\n",
    "mod_index_Hbpos_pre = np.stack(mod_index_Hbpos_pre,0)\n",
    "\n",
    "mod_index_Hbpos_post = []\n",
    "for i_fish, fish_ in enumerate(Hbpos_post):\n",
    "    is_in = fish_[\"out\"].values == False\n",
    "    distant = fish_[\"temp_start\"].values >= dist_pt_th\n",
    "    dist_pt = fish_[\"delta\"].values[is_in&distant]\n",
    "    in_iso = (dist_pt>-threshold_dpt)&(dist_pt<threshold_dpt)\n",
    "    iso_bouts = fish_.iloc[is_in&distant].iloc[in_iso]\n",
    "    above_th = iso_bouts[\"delta_1\"].values<-threshold_dpt\n",
    "    #below_th = iso_bouts[\"delta_1\"].values<-threshold_dpt\n",
    "    choice_bout = iso_bouts[\"theta_bout\"].values[above_th]\n",
    "    choice_bout[iso_bouts[\"prev_bias\"].values[above_th]<0] = -choice_bout[iso_bouts[\"prev_bias\"].values[above_th]<0]\n",
    "    mod_index_Hbpos_post.append(li(choice_bout))\n",
    "mod_index_Hbpos_post = np.stack(mod_index_Hbpos_post,0)"
   ]
  },
  {
   "cell_type": "code",
   "execution_count": 443,
   "metadata": {},
   "outputs": [
    {
     "name": "stderr",
     "output_type": "stream",
     "text": [
      "C:\\Users\\Asus\\Anaconda3\\lib\\site-packages\\ipykernel_launcher.py:1: RuntimeWarning: More than 20 figures have been opened. Figures created through the pyplot interface (`matplotlib.pyplot.figure`) are retained until explicitly closed and may consume too much memory. (To control this warning, see the rcParam `figure.max_open_warning`).\n",
      "  \"\"\"Entry point for launching an IPython kernel.\n"
     ]
    },
    {
     "data": {
      "application/vnd.jupyter.widget-view+json": {
       "model_id": "60645f1711db443b8d2dc1fd26c6b448",
       "version_major": 2,
       "version_minor": 0
      },
      "text/plain": [
       "Canvas(toolbar=Toolbar(toolitems=[('Home', 'Reset original view', 'home', 'home'), ('Back', 'Back to previous …"
      ]
     },
     "metadata": {},
     "output_type": "display_data"
    }
   ],
   "source": [
    "plt.figure()\n",
    "to_plot = mod_index_Hbneg_post.copy()\n",
    "x_points = np.random.uniform(low=-1,high=1,size=(len(to_plot)))\n",
    "plt.scatter(x_points,to_plot,s=50,alpha=.3,c=\"orange\",linewidths=0)\n",
    "plt.errorbar([0],y=np.array([np.nanmedian(to_plot)]),\n",
    "            yerr=sem(to_plot,nan_policy=\"omit\")*1.2,\n",
    "            lw=4,fmt=\"-\",ms=20,marker=\"_\",mew=2,c=\"orange\",\n",
    "            capthick=5)\n",
    "\n",
    "to_plot = mod_index_Hbpos_pre.copy()\n",
    "x_points = np.random.uniform(low=-4,high=-2,size=(len(to_plot)))\n",
    "plt.scatter(x_points,to_plot,s=50,alpha=.3,c=\"orange\",linewidths=0)\n",
    "plt.errorbar([-3],y=np.array([np.nanmedian(to_plot)]),\n",
    "            yerr=sem(to_plot,nan_policy=\"omit\")*1.2,\n",
    "            lw=4,fmt=\"-\",ms=20,marker=\"_\",mew=2,c=\"orange\",\n",
    "            capthick=5)\n",
    "\n",
    "to_plot = mod_index_Hbpos_post.copy()\n",
    "x_points = np.random.uniform(low=2,high=4,size=(len(to_plot)))\n",
    "plt.scatter(x_points,to_plot,s=50,alpha=.3,c=\"orange\",linewidths=0)\n",
    "plt.errorbar([3],y=np.array([np.nanmedian(to_plot)]),\n",
    "            yerr=sem(to_plot,nan_policy=\"omit\")*1.2,\n",
    "            lw=4,fmt=\"-\",ms=20,marker=\"_\",mew=2,c=\"orange\",\n",
    "            capthick=5)\n",
    "plt.plot([-6,6],[0,0],\"--k\",alpha=.5)\n",
    "plt.ylim([-1,1])\n",
    "plt.xlim([-6,6])\n",
    "plt.xticks([])\n",
    "plt.yticks([-1,-.5,0,0.5,1])\n",
    "plt.ylabel(\"Modulation Index\",fontsize=20)\n",
    "sns.despine(bottom=True)\n",
    "plt.tight_layout()\n",
    "plt.show()"
   ]
  },
  {
   "cell_type": "code",
   "execution_count": 31,
   "metadata": {},
   "outputs": [
    {
     "name": "stdout",
     "output_type": "stream",
     "text": [
      "MannwhitneyuResult(statistic=145.0, pvalue=0.20964426626215754)\n",
      "MannwhitneyuResult(statistic=165.0, pvalue=0.2691266806353121)\n"
     ]
    }
   ],
   "source": [
    "print(mannwhitneyu(mod_index_Hbpos_post,mod_index_Hbneg_post))\n",
    "print(mannwhitneyu(mod_index_Hbpos_post,mod_index_Hbpos_pre))"
   ]
  },
  {
   "cell_type": "code",
   "execution_count": 445,
   "metadata": {
    "scrolled": false
   },
   "outputs": [
    {
     "name": "stderr",
     "output_type": "stream",
     "text": [
      "C:\\Users\\Asus\\Anaconda3\\lib\\site-packages\\ipykernel_launcher.py:1: RuntimeWarning: More than 20 figures have been opened. Figures created through the pyplot interface (`matplotlib.pyplot.figure`) are retained until explicitly closed and may consume too much memory. (To control this warning, see the rcParam `figure.max_open_warning`).\n",
      "  \"\"\"Entry point for launching an IPython kernel.\n"
     ]
    },
    {
     "data": {
      "application/vnd.jupyter.widget-view+json": {
       "model_id": "4a588202da34446f9185f5010a98f78a",
       "version_major": 2,
       "version_minor": 0
      },
      "text/plain": [
       "Canvas(toolbar=Toolbar(toolitems=[('Home', 'Reset original view', 'home', 'home'), ('Back', 'Back to previous …"
      ]
     },
     "metadata": {},
     "output_type": "display_data"
    }
   ],
   "source": [
    "plt.figure()\n",
    "to_plot = mod_index_wt.copy()\n",
    "x_points = np.random.uniform(low=-1,high=1,size=(len(to_plot)))\n",
    "plt.scatter(x_points,to_plot,s=50,alpha=.2,c=\"k\",linewidths=0)\n",
    "plt.errorbar([0],y=np.array([np.nanmean(to_plot)]),\n",
    "            yerr=sem(to_plot,nan_policy=\"omit\")*1.2,\n",
    "            lw=4,fmt=\"-\",ms=20,marker=\"_\",mew=2,c=\"k\",\n",
    "            capthick=5)\n",
    "\n",
    "plt.plot([-6,6],[0,0],\"--k\",alpha=.5)\n",
    "plt.ylim([-.4,.4])\n",
    "plt.xlim([-6,6])\n",
    "plt.xticks([])\n",
    "plt.yticks([-1,-.5,0,0.5,1])\n",
    "plt.ylabel(\"Modulation Index\",fontsize=20)\n",
    "sns.despine(bottom=True)\n",
    "plt.tight_layout()\n",
    "plt.show()"
   ]
  },
  {
   "cell_type": "code",
   "execution_count": 15,
   "metadata": {},
   "outputs": [
    {
     "name": "stdout",
     "output_type": "stream",
     "text": [
      "MannwhitneyuResult(statistic=335.0, pvalue=0.10408160744205913)\n",
      "MannwhitneyuResult(statistic=231.0, pvalue=0.05900507618850612)\n"
     ]
    }
   ],
   "source": [
    "print(mannwhitneyu(mod_index_wt,mod_index_fluo))\n",
    "print(mannwhitneyu(mod_index_wt,mod_index_cpca))"
   ]
  },
  {
   "cell_type": "code",
   "execution_count": 52,
   "metadata": {},
   "outputs": [
    {
     "data": {
      "application/vnd.jupyter.widget-view+json": {
       "model_id": "5df87853ad4a46b6875c8fa192bdb7f1",
       "version_major": 2,
       "version_minor": 0
      },
      "text/plain": [
       "Canvas(toolbar=Toolbar(toolitems=[('Home', 'Reset original view', 'home', 'home'), ('Back', 'Back to previous …"
      ]
     },
     "metadata": {},
     "output_type": "display_data"
    }
   ],
   "source": [
    "plt.figure()\n",
    "plt.scatter([-1.7893538198068981,\n",
    " -6.91711958334529,\n",
    " -7.093098760688196,\n",
    " -0.5580348065612704,\n",
    " 0.1795763114405453,\n",
    " 1.3120250397540474,\n",
    " 2.5685949717730203,\n",
    " -2.624666933582141,\n",
    " -0.8662748830788622,\n",
    " -7.151430523506239,\n",
    " -2.774899695215172,\n",
    " -2.4577400934316422,\n",
    " -4.9519634463686835,\n",
    " -1.1561146337181825,\n",
    " -0.7544948123262145,\n",
    " -3.1811251935966887,\n",
    " -1.1477060733774636,\n",
    " -1.5421942568483367,\n",
    " -0.4699990993332328,\n",
    " -0.16951450526278933,\n",
    " -0.8151721503708806,\n",
    " -1.763795857548427,\n",
    " -0.07630000499121081,\n",
    " 3.2192133962704936,\n",
    " -0.969438620446919,\n",
    " -0.13478318780575194],mod_index_wt)\n",
    "plt.show()"
   ]
  },
  {
   "cell_type": "code",
   "execution_count": 33,
   "metadata": {},
   "outputs": [
    {
     "name": "stderr",
     "output_type": "stream",
     "text": [
      "C:\\Users\\epaoli\\anaconda3\\lib\\site-packages\\ipykernel_launcher.py:7: RuntimeWarning: invalid value encountered in less\n",
      "  import sys\n",
      "C:\\Users\\epaoli\\anaconda3\\lib\\site-packages\\ipykernel_launcher.py:8: RuntimeWarning: invalid value encountered in greater\n",
      "  \n",
      "C:\\Users\\epaoli\\anaconda3\\lib\\site-packages\\ipykernel_launcher.py:9: RuntimeWarning: invalid value encountered in less_equal\n",
      "  if __name__ == '__main__':\n",
      "C:\\Users\\epaoli\\anaconda3\\lib\\site-packages\\ipykernel_launcher.py:10: SettingWithCopyWarning: \n",
      "A value is trying to be set on a copy of a slice from a DataFrame\n",
      "\n",
      "See the caveats in the documentation: http://pandas.pydata.org/pandas-docs/stable/user_guide/indexing.html#returning-a-view-versus-a-copy\n",
      "  # Remove the CWD from sys.path while we load stuff.\n",
      "C:\\Users\\epaoli\\anaconda3\\lib\\site-packages\\pandas\\core\\generic.py:9114: SettingWithCopyWarning: \n",
      "A value is trying to be set on a copy of a slice from a DataFrame\n",
      "\n",
      "See the caveats in the documentation: http://pandas.pydata.org/pandas-docs/stable/user_guide/indexing.html#returning-a-view-versus-a-copy\n",
      "  self._update_inplace(new_data)\n",
      "C:\\Users\\epaoli\\anaconda3\\lib\\site-packages\\IPython\\core\\interactiveshell.py:3326: SettingWithCopyWarning: \n",
      "A value is trying to be set on a copy of a slice from a DataFrame\n",
      "\n",
      "See the caveats in the documentation: http://pandas.pydata.org/pandas-docs/stable/user_guide/indexing.html#returning-a-view-versus-a-copy\n",
      "  exec(code_obj, self.user_global_ns, self.user_ns)\n",
      "C:\\Users\\epaoli\\anaconda3\\lib\\site-packages\\ipykernel_launcher.py:11: SettingWithCopyWarning: \n",
      "A value is trying to be set on a copy of a slice from a DataFrame\n",
      "\n",
      "See the caveats in the documentation: http://pandas.pydata.org/pandas-docs/stable/user_guide/indexing.html#returning-a-view-versus-a-copy\n",
      "  # This is added back by InteractiveShellApp.init_path()\n",
      "C:\\Users\\epaoli\\anaconda3\\lib\\site-packages\\ipykernel_launcher.py:12: SettingWithCopyWarning: \n",
      "A value is trying to be set on a copy of a slice from a DataFrame\n",
      "\n",
      "See the caveats in the documentation: http://pandas.pydata.org/pandas-docs/stable/user_guide/indexing.html#returning-a-view-versus-a-copy\n",
      "  if sys.path[0] == '':\n",
      "C:\\Users\\epaoli\\anaconda3\\lib\\site-packages\\ipykernel_launcher.py:9: RuntimeWarning: invalid value encountered in true_divide\n",
      "  if __name__ == '__main__':\n",
      "C:\\Users\\epaoli\\anaconda3\\lib\\site-packages\\ipykernel_launcher.py:24: RuntimeWarning: invalid value encountered in less\n",
      "C:\\Users\\epaoli\\anaconda3\\lib\\site-packages\\ipykernel_launcher.py:25: RuntimeWarning: invalid value encountered in greater\n",
      "C:\\Users\\epaoli\\anaconda3\\lib\\site-packages\\ipykernel_launcher.py:26: RuntimeWarning: invalid value encountered in less_equal\n",
      "C:\\Users\\epaoli\\anaconda3\\lib\\site-packages\\ipykernel_launcher.py:27: SettingWithCopyWarning: \n",
      "A value is trying to be set on a copy of a slice from a DataFrame\n",
      "\n",
      "See the caveats in the documentation: http://pandas.pydata.org/pandas-docs/stable/user_guide/indexing.html#returning-a-view-versus-a-copy\n",
      "C:\\Users\\epaoli\\anaconda3\\lib\\site-packages\\ipykernel_launcher.py:28: SettingWithCopyWarning: \n",
      "A value is trying to be set on a copy of a slice from a DataFrame\n",
      "\n",
      "See the caveats in the documentation: http://pandas.pydata.org/pandas-docs/stable/user_guide/indexing.html#returning-a-view-versus-a-copy\n",
      "C:\\Users\\epaoli\\anaconda3\\lib\\site-packages\\ipykernel_launcher.py:29: SettingWithCopyWarning: \n",
      "A value is trying to be set on a copy of a slice from a DataFrame\n",
      "\n",
      "See the caveats in the documentation: http://pandas.pydata.org/pandas-docs/stable/user_guide/indexing.html#returning-a-view-versus-a-copy\n",
      "C:\\Users\\epaoli\\anaconda3\\lib\\site-packages\\ipykernel_launcher.py:40: RuntimeWarning: invalid value encountered in less\n",
      "C:\\Users\\epaoli\\anaconda3\\lib\\site-packages\\ipykernel_launcher.py:41: RuntimeWarning: invalid value encountered in greater\n",
      "C:\\Users\\epaoli\\anaconda3\\lib\\site-packages\\ipykernel_launcher.py:42: RuntimeWarning: invalid value encountered in less_equal\n",
      "C:\\Users\\epaoli\\anaconda3\\lib\\site-packages\\ipykernel_launcher.py:43: SettingWithCopyWarning: \n",
      "A value is trying to be set on a copy of a slice from a DataFrame\n",
      "\n",
      "See the caveats in the documentation: http://pandas.pydata.org/pandas-docs/stable/user_guide/indexing.html#returning-a-view-versus-a-copy\n",
      "C:\\Users\\epaoli\\anaconda3\\lib\\site-packages\\ipykernel_launcher.py:44: SettingWithCopyWarning: \n",
      "A value is trying to be set on a copy of a slice from a DataFrame\n",
      "\n",
      "See the caveats in the documentation: http://pandas.pydata.org/pandas-docs/stable/user_guide/indexing.html#returning-a-view-versus-a-copy\n",
      "C:\\Users\\epaoli\\anaconda3\\lib\\site-packages\\ipykernel_launcher.py:45: SettingWithCopyWarning: \n",
      "A value is trying to be set on a copy of a slice from a DataFrame\n",
      "\n",
      "See the caveats in the documentation: http://pandas.pydata.org/pandas-docs/stable/user_guide/indexing.html#returning-a-view-versus-a-copy\n",
      "C:\\Users\\epaoli\\anaconda3\\lib\\site-packages\\ipykernel_launcher.py:56: RuntimeWarning: invalid value encountered in less\n",
      "C:\\Users\\epaoli\\anaconda3\\lib\\site-packages\\ipykernel_launcher.py:57: RuntimeWarning: invalid value encountered in greater\n",
      "C:\\Users\\epaoli\\anaconda3\\lib\\site-packages\\ipykernel_launcher.py:58: RuntimeWarning: invalid value encountered in less_equal\n",
      "C:\\Users\\epaoli\\anaconda3\\lib\\site-packages\\ipykernel_launcher.py:59: SettingWithCopyWarning: \n",
      "A value is trying to be set on a copy of a slice from a DataFrame\n",
      "\n",
      "See the caveats in the documentation: http://pandas.pydata.org/pandas-docs/stable/user_guide/indexing.html#returning-a-view-versus-a-copy\n",
      "C:\\Users\\epaoli\\anaconda3\\lib\\site-packages\\ipykernel_launcher.py:60: SettingWithCopyWarning: \n",
      "A value is trying to be set on a copy of a slice from a DataFrame\n",
      "\n",
      "See the caveats in the documentation: http://pandas.pydata.org/pandas-docs/stable/user_guide/indexing.html#returning-a-view-versus-a-copy\n",
      "C:\\Users\\epaoli\\anaconda3\\lib\\site-packages\\ipykernel_launcher.py:61: SettingWithCopyWarning: \n",
      "A value is trying to be set on a copy of a slice from a DataFrame\n",
      "\n",
      "See the caveats in the documentation: http://pandas.pydata.org/pandas-docs/stable/user_guide/indexing.html#returning-a-view-versus-a-copy\n",
      "C:\\Users\\epaoli\\anaconda3\\lib\\site-packages\\ipykernel_launcher.py:72: RuntimeWarning: invalid value encountered in less\n",
      "C:\\Users\\epaoli\\anaconda3\\lib\\site-packages\\ipykernel_launcher.py:73: RuntimeWarning: invalid value encountered in greater\n",
      "C:\\Users\\epaoli\\anaconda3\\lib\\site-packages\\ipykernel_launcher.py:74: RuntimeWarning: invalid value encountered in less_equal\n",
      "C:\\Users\\epaoli\\anaconda3\\lib\\site-packages\\ipykernel_launcher.py:75: SettingWithCopyWarning: \n",
      "A value is trying to be set on a copy of a slice from a DataFrame\n",
      "\n",
      "See the caveats in the documentation: http://pandas.pydata.org/pandas-docs/stable/user_guide/indexing.html#returning-a-view-versus-a-copy\n",
      "C:\\Users\\epaoli\\anaconda3\\lib\\site-packages\\ipykernel_launcher.py:76: SettingWithCopyWarning: \n",
      "A value is trying to be set on a copy of a slice from a DataFrame\n",
      "\n",
      "See the caveats in the documentation: http://pandas.pydata.org/pandas-docs/stable/user_guide/indexing.html#returning-a-view-versus-a-copy\n",
      "C:\\Users\\epaoli\\anaconda3\\lib\\site-packages\\ipykernel_launcher.py:77: SettingWithCopyWarning: \n",
      "A value is trying to be set on a copy of a slice from a DataFrame\n",
      "\n",
      "See the caveats in the documentation: http://pandas.pydata.org/pandas-docs/stable/user_guide/indexing.html#returning-a-view-versus-a-copy\n",
      "C:\\Users\\epaoli\\anaconda3\\lib\\site-packages\\ipykernel_launcher.py:88: RuntimeWarning: invalid value encountered in less\n",
      "C:\\Users\\epaoli\\anaconda3\\lib\\site-packages\\ipykernel_launcher.py:89: RuntimeWarning: invalid value encountered in greater\n",
      "C:\\Users\\epaoli\\anaconda3\\lib\\site-packages\\ipykernel_launcher.py:90: RuntimeWarning: invalid value encountered in less_equal\n",
      "C:\\Users\\epaoli\\anaconda3\\lib\\site-packages\\ipykernel_launcher.py:91: SettingWithCopyWarning: \n",
      "A value is trying to be set on a copy of a slice from a DataFrame\n",
      "\n",
      "See the caveats in the documentation: http://pandas.pydata.org/pandas-docs/stable/user_guide/indexing.html#returning-a-view-versus-a-copy\n",
      "C:\\Users\\epaoli\\anaconda3\\lib\\site-packages\\ipykernel_launcher.py:92: SettingWithCopyWarning: \n",
      "A value is trying to be set on a copy of a slice from a DataFrame\n",
      "\n",
      "See the caveats in the documentation: http://pandas.pydata.org/pandas-docs/stable/user_guide/indexing.html#returning-a-view-versus-a-copy\n"
     ]
    },
    {
     "name": "stderr",
     "output_type": "stream",
     "text": [
      "C:\\Users\\epaoli\\anaconda3\\lib\\site-packages\\ipykernel_launcher.py:93: SettingWithCopyWarning: \n",
      "A value is trying to be set on a copy of a slice from a DataFrame\n",
      "\n",
      "See the caveats in the documentation: http://pandas.pydata.org/pandas-docs/stable/user_guide/indexing.html#returning-a-view-versus-a-copy\n"
     ]
    }
   ],
   "source": [
    "threshold_dpt = 0.1333\n",
    "mod_index_wt = []\n",
    "for i_fish, fish_ in enumerate(WT):\n",
    "    is_in = fish_[\"out\"].values == False\n",
    "    dist_pt = fish_[\"delta\"].values[is_in]\n",
    "    iso_bouts = fish_.iloc[is_in]\n",
    "    above_th = iso_bouts.iloc[iso_bouts[\"delta\"].values<-threshold_dpt]\n",
    "    below_th = iso_bouts.iloc[iso_bouts[\"delta\"].values>threshold_dpt]\n",
    "    iso_th = iso_bouts.iloc[abs(iso_bouts[\"delta\"].values)<=threshold_dpt]\n",
    "    above_th[\"theta_bout\"][above_th[\"prev_bias\"].values<0] = -above_th[\"theta_bout\"][above_th[\"prev_bias\"].values<0]\n",
    "    below_th[\"theta_bout\"][below_th[\"prev_bias\"].values<0] = -below_th[\"theta_bout\"][below_th[\"prev_bias\"].values<0]\n",
    "    iso_th[\"theta_bout\"][iso_th[\"prev_bias\"].values<0] = -iso_th[\"theta_bout\"][iso_th[\"prev_bias\"].values<0]\n",
    "#     were_turning_below = abs(below_th[\"prev_bias\"].values) >=np.deg2rad(20)\n",
    "#     were_turning_above = abs(above_th[\"prev_bias\"].values) >=np.deg2rad(20)\n",
    "    mod_index_wt.append(np.array([pipsi(below_th[\"theta_bout\"].values)-\n",
    "                                  pipsi(above_th[\"theta_bout\"].values)]))\n",
    "mod_index_wt = np.stack(mod_index_wt,0)\n",
    "\n",
    "mod_index_fluo = []\n",
    "for i_fish, fish_ in enumerate(fluo):\n",
    "    is_in = fish_[\"out\"].values == False\n",
    "    dist_pt = fish_[\"delta\"].values[is_in]\n",
    "    iso_bouts = fish_.iloc[is_in]\n",
    "    above_th = iso_bouts.iloc[iso_bouts[\"delta\"].values<-threshold_dpt]\n",
    "    below_th = iso_bouts.iloc[iso_bouts[\"delta\"].values>threshold_dpt]\n",
    "    iso_th = iso_bouts.iloc[abs(iso_bouts[\"delta\"].values)<=threshold_dpt]\n",
    "    above_th[\"theta_bout\"][above_th[\"prev_bias\"].values<0] = -above_th[\"theta_bout\"][above_th[\"prev_bias\"].values<0]\n",
    "    below_th[\"theta_bout\"][below_th[\"prev_bias\"].values<0] = -below_th[\"theta_bout\"][below_th[\"prev_bias\"].values<0]\n",
    "    iso_th[\"theta_bout\"][iso_th[\"prev_bias\"].values<0] = -iso_th[\"theta_bout\"][iso_th[\"prev_bias\"].values<0]\n",
    "\n",
    "    mod_index_fluo.append(np.array([pipsi(below_th[\"theta_bout\"].values)-\n",
    "                                  pipsi(above_th[\"theta_bout\"].values)]))\n",
    "mod_index_fluo = np.stack(mod_index_fluo,0)\n",
    "\n",
    "mod_index_cpca = []\n",
    "for i_fish, fish_ in enumerate(cpca):\n",
    "    is_in = fish_[\"out\"].values == False\n",
    "    dist_pt = fish_[\"delta\"].values[is_in]\n",
    "    iso_bouts = fish_.iloc[is_in]\n",
    "    above_th = iso_bouts.iloc[iso_bouts[\"delta\"].values<-threshold_dpt]\n",
    "    below_th = iso_bouts.iloc[iso_bouts[\"delta\"].values>threshold_dpt]\n",
    "    iso_th = iso_bouts.iloc[abs(iso_bouts[\"delta\"].values)<=threshold_dpt]\n",
    "    above_th[\"theta_bout\"][above_th[\"prev_bias\"].values<0] = -above_th[\"theta_bout\"][above_th[\"prev_bias\"].values<0]\n",
    "    below_th[\"theta_bout\"][below_th[\"prev_bias\"].values<0] = -below_th[\"theta_bout\"][below_th[\"prev_bias\"].values<0]\n",
    "    iso_th[\"theta_bout\"][iso_th[\"prev_bias\"].values<0] = -iso_th[\"theta_bout\"][iso_th[\"prev_bias\"].values<0]\n",
    "\n",
    "    mod_index_cpca.append(np.array([pipsi(below_th[\"theta_bout\"].values)-\n",
    "                                  pipsi(above_th[\"theta_bout\"].values)]))\n",
    "mod_index_cpca = np.stack(mod_index_cpca,0)\n",
    "\n",
    "mod_index_Hbneg_post = []\n",
    "for i_fish, fish_ in enumerate(Hbneg_post):\n",
    "    is_in = fish_[\"out\"].values == False\n",
    "    dist_pt = fish_[\"delta\"].values[is_in]\n",
    "    iso_bouts = fish_.iloc[is_in]\n",
    "    above_th = iso_bouts.iloc[iso_bouts[\"delta\"].values<-threshold_dpt]\n",
    "    below_th = iso_bouts.iloc[iso_bouts[\"delta\"].values>threshold_dpt]\n",
    "    iso_th = iso_bouts.iloc[abs(iso_bouts[\"delta\"].values)<=threshold_dpt]\n",
    "    above_th[\"theta_bout\"][above_th[\"prev_bias\"].values<0] = -above_th[\"theta_bout\"][above_th[\"prev_bias\"].values<0]\n",
    "    below_th[\"theta_bout\"][below_th[\"prev_bias\"].values<0] = -below_th[\"theta_bout\"][below_th[\"prev_bias\"].values<0]\n",
    "    iso_th[\"theta_bout\"][iso_th[\"prev_bias\"].values<0] = -iso_th[\"theta_bout\"][iso_th[\"prev_bias\"].values<0]\n",
    "\n",
    "    mod_index_Hbneg_post.append(np.array([pipsi(below_th[\"theta_bout\"].values)-\n",
    "                                  pipsi(above_th[\"theta_bout\"].values)]))\n",
    "mod_index_Hbneg_post = np.stack(mod_index_Hbneg_post,0)\n",
    "\n",
    "mod_index_Hbpos_pre = []\n",
    "for i_fish, fish_ in enumerate(Hbpos_pre):\n",
    "    is_in = fish_[\"out\"].values == False\n",
    "    dist_pt = fish_[\"delta\"].values[is_in]\n",
    "    iso_bouts = fish_.iloc[is_in]\n",
    "    above_th = iso_bouts.iloc[iso_bouts[\"delta\"].values<-threshold_dpt]\n",
    "    below_th = iso_bouts.iloc[iso_bouts[\"delta\"].values>threshold_dpt]\n",
    "    iso_th = iso_bouts.iloc[abs(iso_bouts[\"delta\"].values)<=threshold_dpt]\n",
    "    above_th[\"theta_bout\"][above_th[\"prev_bias\"].values<0] = -above_th[\"theta_bout\"][above_th[\"prev_bias\"].values<0]\n",
    "    below_th[\"theta_bout\"][below_th[\"prev_bias\"].values<0] = -below_th[\"theta_bout\"][below_th[\"prev_bias\"].values<0]\n",
    "    iso_th[\"theta_bout\"][iso_th[\"prev_bias\"].values<0] = -iso_th[\"theta_bout\"][iso_th[\"prev_bias\"].values<0]\n",
    "\n",
    "    mod_index_Hbpos_pre.append(np.array([pipsi(below_th[\"theta_bout\"].values)-\n",
    "                                  pipsi(above_th[\"theta_bout\"].values)]))\n",
    "mod_index_Hbpos_pre = np.stack(mod_index_Hbpos_pre,0)\n",
    "\n",
    "mod_index_Hbpos_post = []\n",
    "for i_fish, fish_ in enumerate(Hbpos_post):\n",
    "    is_in = fish_[\"out\"].values == False\n",
    "    dist_pt = fish_[\"delta\"].values[is_in]\n",
    "    iso_bouts = fish_.iloc[is_in]\n",
    "    above_th = iso_bouts.iloc[iso_bouts[\"delta\"].values<-threshold_dpt]\n",
    "    below_th = iso_bouts.iloc[iso_bouts[\"delta\"].values>threshold_dpt]\n",
    "    iso_th = iso_bouts.iloc[abs(iso_bouts[\"delta\"].values)<=threshold_dpt]\n",
    "    above_th[\"theta_bout\"][above_th[\"prev_bias\"].values<0] = -above_th[\"theta_bout\"][above_th[\"prev_bias\"].values<0]\n",
    "    below_th[\"theta_bout\"][below_th[\"prev_bias\"].values<0] = -below_th[\"theta_bout\"][below_th[\"prev_bias\"].values<0]\n",
    "    iso_th[\"theta_bout\"][iso_th[\"prev_bias\"].values<0] = -iso_th[\"theta_bout\"][iso_th[\"prev_bias\"].values<0]\n",
    "\n",
    "    mod_index_Hbpos_post.append(np.array([pipsi(below_th[\"theta_bout\"].values)-\n",
    "                                  pipsi(above_th[\"theta_bout\"].values)]))\n",
    "mod_index_Hbpos_post = np.stack(mod_index_Hbpos_post,0)"
   ]
  },
  {
   "cell_type": "code",
   "execution_count": 34,
   "metadata": {},
   "outputs": [
    {
     "data": {
      "application/vnd.jupyter.widget-view+json": {
       "model_id": "c680ae4bee47407b91efc652e8012775",
       "version_major": 2,
       "version_minor": 0
      },
      "text/plain": [
       "Canvas(toolbar=Toolbar(toolitems=[('Home', 'Reset original view', 'home', 'home'), ('Back', 'Back to previous …"
      ]
     },
     "metadata": {},
     "output_type": "display_data"
    }
   ],
   "source": [
    "plt.figure()\n",
    "to_plot = mod_index_wt.copy()[:,0]\n",
    "x_points = np.random.uniform(low=-1,high=1,size=(len(to_plot)))\n",
    "plt.scatter(x_points,to_plot,s=50,alpha=.2,c=\"k\",linewidths=0)\n",
    "plt.errorbar([0],y=np.array([np.nanmedian(to_plot)]),\n",
    "            yerr=sem(to_plot,nan_policy=\"omit\")*1.2,\n",
    "            lw=4,fmt=\"-\",ms=20,marker=\"_\",mew=2,c=\"k\",\n",
    "            capthick=5)\n",
    "\n",
    "to_plot = mod_index_cpca.copy()[:,0]\n",
    "x_points = np.random.uniform(low=-4,high=-2,size=(len(to_plot)))\n",
    "plt.scatter(x_points,to_plot,s=50,alpha=.2,c=\"k\",linewidths=0)\n",
    "plt.errorbar([-3],y=np.array([np.nanmedian(to_plot)]),\n",
    "            yerr=sem(to_plot,nan_policy=\"omit\")*1.2,\n",
    "            lw=4,fmt=\"-\",ms=20,marker=\"_\",mew=2,c=\"k\",\n",
    "            capthick=5)\n",
    "\n",
    "to_plot = mod_index_fluo.copy()[:,0]\n",
    "x_points = np.random.uniform(low=2,high=4,size=(len(to_plot)))\n",
    "plt.scatter(x_points,to_plot,s=50,alpha=.2,c=\"k\",linewidths=0)\n",
    "plt.errorbar([3],y=np.array([np.nanmedian(to_plot)]),\n",
    "            yerr=sem(to_plot,nan_policy=\"omit\")*1.2,\n",
    "            lw=4,fmt=\"-\",ms=20,marker=\"_\",mew=2,c=\"k\",\n",
    "            capthick=5)\n",
    "plt.plot([-6,6],[0,0],\"--k\",alpha=.5)\n",
    "plt.ylim([-1,1])\n",
    "plt.xlim([-6,6])\n",
    "plt.xticks([])\n",
    "plt.yticks([-1,-.5,0,0.5,1])\n",
    "plt.ylabel(\"Modulation Index\",fontsize=20)\n",
    "sns.despine(bottom=True)\n",
    "plt.tight_layout()\n",
    "plt.show()"
   ]
  },
  {
   "cell_type": "code",
   "execution_count": 35,
   "metadata": {},
   "outputs": [
    {
     "data": {
      "application/vnd.jupyter.widget-view+json": {
       "model_id": "36753a66a12b440eb02e05c8bea7d91f",
       "version_major": 2,
       "version_minor": 0
      },
      "text/plain": [
       "Canvas(toolbar=Toolbar(toolitems=[('Home', 'Reset original view', 'home', 'home'), ('Back', 'Back to previous …"
      ]
     },
     "metadata": {},
     "output_type": "display_data"
    }
   ],
   "source": [
    "plt.figure()\n",
    "to_plot = mod_index_Hbneg_post.copy()[:,0]\n",
    "x_points = np.random.uniform(low=-1,high=1,size=(len(to_plot)))\n",
    "plt.scatter(x_points,to_plot,s=50,alpha=.3,c=\"orange\",linewidths=0)\n",
    "plt.errorbar([0],y=np.array([np.nanmedian(to_plot)]),\n",
    "            yerr=sem(to_plot,nan_policy=\"omit\")*1.2,\n",
    "            lw=4,fmt=\"-\",ms=20,marker=\"_\",mew=2,c=\"orange\",\n",
    "            capthick=5)\n",
    "\n",
    "to_plot = mod_index_Hbpos_pre.copy()[:,0]\n",
    "x_points = np.random.uniform(low=-4,high=-2,size=(len(to_plot)))\n",
    "plt.scatter(x_points,to_plot,s=50,alpha=.3,c=\"orange\",linewidths=0)\n",
    "plt.errorbar([-3],y=np.array([np.nanmedian(to_plot)]),\n",
    "            yerr=sem(to_plot,nan_policy=\"omit\")*1.2,\n",
    "            lw=4,fmt=\"-\",ms=20,marker=\"_\",mew=2,c=\"orange\",\n",
    "            capthick=5)\n",
    "\n",
    "to_plot = mod_index_Hbpos_post.copy()[:,0]\n",
    "x_points = np.random.uniform(low=2,high=4,size=(len(to_plot)))\n",
    "plt.scatter(x_points,to_plot,s=50,alpha=.3,c=\"orange\",linewidths=0)\n",
    "plt.errorbar([3],y=np.array([np.nanmedian(to_plot)]),\n",
    "            yerr=sem(to_plot,nan_policy=\"omit\")*1.2,\n",
    "            lw=4,fmt=\"-\",ms=20,marker=\"_\",mew=2,c=\"orange\",\n",
    "            capthick=5)\n",
    "plt.plot([-6,6],[0,0],\"--k\",alpha=.5)\n",
    "plt.ylim([-1,1])\n",
    "plt.xlim([-6,6])\n",
    "plt.xticks([])\n",
    "plt.yticks([-1,-.5,0,0.5,1])\n",
    "plt.ylabel(\"Modulation Index\",fontsize=20)\n",
    "sns.despine(bottom=True)\n",
    "plt.tight_layout()\n",
    "plt.show()"
   ]
  },
  {
   "cell_type": "code",
   "execution_count": null,
   "metadata": {},
   "outputs": [],
   "source": []
  }
 ],
 "metadata": {
  "kernelspec": {
   "display_name": "Python 3 (ipykernel)",
   "language": "python",
   "name": "python3"
  },
  "language_info": {
   "codemirror_mode": {
    "name": "ipython",
    "version": 3
   },
   "file_extension": ".py",
   "mimetype": "text/x-python",
   "name": "python",
   "nbconvert_exporter": "python",
   "pygments_lexer": "ipython3",
   "version": "3.7.12"
  }
 },
 "nbformat": 4,
 "nbformat_minor": 4
}
