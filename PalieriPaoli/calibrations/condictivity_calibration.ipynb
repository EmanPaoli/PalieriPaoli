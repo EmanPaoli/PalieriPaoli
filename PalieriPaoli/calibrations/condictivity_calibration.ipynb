{
 "cells": [
  {
   "cell_type": "code",
   "execution_count": 1,
   "metadata": {},
   "outputs": [],
   "source": [
    "%matplotlib widget"
   ]
  },
  {
   "cell_type": "code",
   "execution_count": 2,
   "metadata": {},
   "outputs": [],
   "source": [
    "import time \n",
    "import serial \n",
    "from matplotlib import pyplot as plt\n",
    "import flammkuchen as fl\n",
    "import numpy as np\n",
    "from IPython.display import clear_output\n",
    "from pathlib import Path\n",
    "from scipy.signal import medfilt,savgol_filter\n",
    "from scipy import interpolate\n",
    "from scipy.stats import zscore"
   ]
  },
  {
   "cell_type": "code",
   "execution_count": 3,
   "metadata": {},
   "outputs": [],
   "source": [
    "def fill_nan(A):\n",
    "    '''\n",
    "    interpolate to fill nan values\n",
    "    '''\n",
    "    inds = np.arange(A.shape[0])\n",
    "    good = np.where(np.isfinite(A))\n",
    "    f = interpolate.interp1d(inds[good], A[good],bounds_error=False)\n",
    "    B = np.where(np.isfinite(A),A,f(inds))\n",
    "    return B"
   ]
  },
  {
   "cell_type": "code",
   "execution_count": 4,
   "metadata": {},
   "outputs": [],
   "source": [
    "ser = serial.Serial('COM7', 9600,timeout=.1) \n",
    "ser.close()\n",
    "ser.open()"
   ]
  },
  {
   "cell_type": "code",
   "execution_count": 5,
   "metadata": {},
   "outputs": [],
   "source": [
    "# save_path = Path(r\"C:\\Users\\Asus\\Desktop\\calibrations_valence\\new_setup_configuration\\pH4.5\")\n",
    "cal_num = 0"
   ]
  },
  {
   "cell_type": "code",
   "execution_count": 9,
   "metadata": {},
   "outputs": [],
   "source": [
    "tot_recording_s = 90\n",
    "sleep_int = .05"
   ]
  },
  {
   "cell_type": "code",
   "execution_count": 12,
   "metadata": {},
   "outputs": [
    {
     "name": "stdout",
     "output_type": "stream",
     "text": [
      "Sensor Value is nan Time 90.012455701828\n"
     ]
    }
   ],
   "source": [
    "time_vect = []\n",
    "values = []\n",
    "buffer = []\n",
    "start_exp = time.time()\n",
    "ongoing = True\n",
    "while ongoing:\n",
    "    t = time.time() - start_exp\n",
    "    \n",
    "    mystring = ser.readline().decode().rstrip()\n",
    "    try:\n",
    "        value = float(mystring)\n",
    "    except:\n",
    "        value = np.nan\n",
    "    time_vect.append(t)\n",
    "    values.append(value)\n",
    "    clear_output(wait=True)\n",
    "    time.sleep(sleep_int)\n",
    "    print(\"Sensor Value is\", value, \"Time\", t)\n",
    "    ser.flush() \n",
    "    ser.flushInput() \n",
    "    ser.flushOutput()\n",
    "    if t > tot_recording_s:\n",
    "        ongoing = False"
   ]
  },
  {
   "cell_type": "code",
   "execution_count": 13,
   "metadata": {},
   "outputs": [
    {
     "data": {
      "application/vnd.jupyter.widget-view+json": {
       "model_id": "7ea5766a706249a19623992cbc4eea1b",
       "version_major": 2,
       "version_minor": 0
      },
      "text/plain": [
       "Canvas(toolbar=Toolbar(toolitems=[('Home', 'Reset original view', 'home', 'home'), ('Back', 'Back to previous …"
      ]
     },
     "metadata": {},
     "output_type": "display_data"
    }
   ],
   "source": [
    "plt.figure()\n",
    "plt.plot(time_vect,fill_nan(np.array(values)))\n",
    "plt.show()"
   ]
  },
  {
   "cell_type": "code",
   "execution_count": 14,
   "metadata": {},
   "outputs": [
    {
     "data": {
      "application/vnd.jupyter.widget-view+json": {
       "model_id": "5f30d119ef81436a8156cf7f901e1b2a",
       "version_major": 2,
       "version_minor": 0
      },
      "text/plain": [
       "Canvas(toolbar=Toolbar(toolitems=[('Home', 'Reset original view', 'home', 'home'), ('Back', 'Back to previous …"
      ]
     },
     "metadata": {},
     "output_type": "display_data"
    }
   ],
   "source": [
    "plt.figure()\n",
    "plt.plot(time_vect,fill_nan(np.array(values)))\n",
    "plt.show()"
   ]
  },
  {
   "cell_type": "code",
   "execution_count": 21,
   "metadata": {},
   "outputs": [],
   "source": [
    "times_ps = [0,40,40,80,80,160,160,220,220,260,260,270,270,310,310,420]\n",
    "pin_status = [0,0,1,1,0,0,0,0,1,1,0,0,1,1,0,0]"
   ]
  },
  {
   "cell_type": "code",
   "execution_count": 22,
   "metadata": {},
   "outputs": [],
   "source": [
    "all_time = times_ps.copy()\n",
    "all_pin_status = pin_status.copy()\n",
    "for _ in range(4):\n",
    "    all_time.extend(list(np.array(times_ps)+all_time[-1]))\n",
    "    all_pin_status.extend(pin_status)"
   ]
  },
  {
   "cell_type": "code",
   "execution_count": 23,
   "metadata": {},
   "outputs": [],
   "source": [
    "sp = np.mean(np.diff(time_vect))"
   ]
  },
  {
   "cell_type": "code",
   "execution_count": 43,
   "metadata": {},
   "outputs": [
    {
     "data": {
      "application/vnd.jupyter.widget-view+json": {
       "model_id": "291a2be8d4854218b39f80497fa3ee61",
       "version_major": 2,
       "version_minor": 0
      },
      "text/plain": [
       "Canvas(toolbar=Toolbar(toolitems=[('Home', 'Reset original view', 'home', 'home'), ('Back', 'Back to previous …"
      ]
     },
     "metadata": {},
     "output_type": "display_data"
    }
   ],
   "source": [
    "pos_curve  = []\n",
    "neg_curve = []\n",
    "pos_ = True\n",
    "acc = 0\n",
    "plt.figure()\n",
    "plt.plot(np.arange(len(values))*sp, zscore(fill_nan(medfilt(values,17))), \"k\",lw=2)\n",
    "plt.plot(all_time, all_pin_status)\n",
    "plt.ylabel(\"Voltage(V)\")\n",
    "plt.xlabel(\"Time Points\")\n",
    "plt.show()"
   ]
  },
  {
   "cell_type": "code",
   "execution_count": 44,
   "metadata": {},
   "outputs": [],
   "source": [
    "fl.save(save_path/(\"conductivity_calibration_ph4.5_iti_40secpulse\"+str(cal_num)), {\"t\":time_vect,\n",
    "                                                             \"seonsor_value\":values})"
   ]
  },
  {
   "cell_type": "code",
   "execution_count": 18,
   "metadata": {},
   "outputs": [],
   "source": [
    "ser.close()"
   ]
  },
  {
   "cell_type": "code",
   "execution_count": 15,
   "metadata": {},
   "outputs": [
    {
     "data": {
      "text/plain": [
       "96.0"
      ]
     },
     "execution_count": 15,
     "metadata": {},
     "output_type": "execute_result"
    }
   ],
   "source": [
    "80*1.2"
   ]
  },
  {
   "cell_type": "code",
   "execution_count": 16,
   "metadata": {},
   "outputs": [
    {
     "data": {
      "text/plain": [
       "1.92"
      ]
     },
     "execution_count": 16,
     "metadata": {},
     "output_type": "execute_result"
    }
   ],
   "source": [
    "96/50"
   ]
  },
  {
   "cell_type": "code",
   "execution_count": null,
   "metadata": {},
   "outputs": [],
   "source": []
  }
 ],
 "metadata": {
  "kernelspec": {
   "display_name": "Python 3",
   "language": "python",
   "name": "python3"
  },
  "language_info": {
   "codemirror_mode": {
    "name": "ipython",
    "version": 3
   },
   "file_extension": ".py",
   "mimetype": "text/x-python",
   "name": "python",
   "nbconvert_exporter": "python",
   "pygments_lexer": "ipython3",
   "version": "3.7.4"
  }
 },
 "nbformat": 4,
 "nbformat_minor": 4
}
